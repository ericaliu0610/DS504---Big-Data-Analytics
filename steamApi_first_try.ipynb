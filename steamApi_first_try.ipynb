{
 "cells": [
  {
   "cell_type": "markdown",
   "metadata": {},
   "source": [
    "# Steam API "
   ]
  },
  {
   "cell_type": "code",
   "execution_count": 2,
   "metadata": {
    "collapsed": true
   },
   "outputs": [],
   "source": [
    "from steam import WebAPI\n",
    "import json"
   ]
  },
  {
   "cell_type": "code",
   "execution_count": 3,
   "metadata": {
    "collapsed": true
   },
   "outputs": [],
   "source": [
    "key=\"************************\"\n",
    "api = WebAPI(key=key)"
   ]
  },
  {
   "cell_type": "markdown",
   "metadata": {},
   "source": [
    "ISteamUser\n",
    "\n",
    "GetPlayerSummaries\n",
    "\n",
    "steamids=76561198110726588,76561198422588320\n",
    "\n",
    "steamids\n",
    "Comma-delimited list of 64 bit Steam IDs to return profile information for. Up to 100 Steam IDs can be requested.\n"
   ]
  },
  {
   "cell_type": "markdown",
   "metadata": {},
   "source": [
    "** Get player summary**"
   ]
  },
  {
   "cell_type": "code",
   "execution_count": 13,
   "metadata": {},
   "outputs": [
    {
     "name": "stdout",
     "output_type": "stream",
     "text": [
      "{\n",
      "  \"response\": {\n",
      "    \"players\": [\n",
      "      {\n",
      "        \"steamid\": \"76561198422588320\",\n",
      "        \"communityvisibilitystate\": 3,\n",
      "        \"personaname\": \"yfadila\",\n",
      "        \"lastlogoff\": 1505698644,\n",
      "        \"profileurl\": \"http://steamcommunity.com/profiles/76561198422588320/\",\n",
      "        \"avatar\": \"https://steamcdn-a.akamaihd.net/steamcommunity/public/images/avatars/fe/fef49e7fa7e1997310d705b2a6158ff8dc1cdfeb.jpg\",\n",
      "        \"avatarmedium\": \"https://steamcdn-a.akamaihd.net/steamcommunity/public/images/avatars/fe/fef49e7fa7e1997310d705b2a6158ff8dc1cdfeb_medium.jpg\",\n",
      "        \"avatarfull\": \"https://steamcdn-a.akamaihd.net/steamcommunity/public/images/avatars/fe/fef49e7fa7e1997310d705b2a6158ff8dc1cdfeb_full.jpg\",\n",
      "        \"personastate\": 1,\n",
      "        \"primaryclanid\": \"103582791429521408\",\n",
      "        \"timecreated\": 1505695880,\n",
      "        \"personastateflags\": 0\n",
      "      },\n",
      "      {\n",
      "        \"steamid\": \"76561198110726588\",\n",
      "        \"communityvisibilitystate\": 3,\n",
      "        \"profilestate\": 1,\n",
      "        \"personaname\": \"Ragdoll\",\n",
      "        \"lastlogoff\": 1505675404,\n",
      "        \"profileurl\": \"http://steamcommunity.com/id/77lovett/\",\n",
      "        \"avatar\": \"https://steamcdn-a.akamaihd.net/steamcommunity/public/images/avatars/d1/d1535eb06592736f815bca9ce2312a9c5f0aa79b.jpg\",\n",
      "        \"avatarmedium\": \"https://steamcdn-a.akamaihd.net/steamcommunity/public/images/avatars/d1/d1535eb06592736f815bca9ce2312a9c5f0aa79b_medium.jpg\",\n",
      "        \"avatarfull\": \"https://steamcdn-a.akamaihd.net/steamcommunity/public/images/avatars/d1/d1535eb06592736f815bca9ce2312a9c5f0aa79b_full.jpg\",\n",
      "        \"personastate\": 3,\n",
      "        \"primaryclanid\": \"103582791429521408\",\n",
      "        \"timecreated\": 1381635548,\n",
      "        \"personastateflags\": 0,\n",
      "        \"loccountrycode\": \"US\",\n",
      "        \"locstatecode\": \"MA\"\n",
      "      }\n",
      "    ]\n",
      "  }\n",
      "}\n"
     ]
    }
   ],
   "source": [
    "response = api.ISteamUser.GetPlayerSummaries(steamids=\"76561198110726588,76561198422588320\")\n",
    "print(json.dumps(response, indent=2))"
   ]
  },
  {
   "cell_type": "markdown",
   "metadata": {},
   "source": [
    "** get list of games ** "
   ]
  },
  {
   "cell_type": "code",
   "execution_count": 9,
   "metadata": {},
   "outputs": [
    {
     "name": "stdout",
     "output_type": "stream",
     "text": [
      "{\n",
      "  \"response\": {\n",
      "    \"game_count\": 3,\n",
      "    \"games\": [\n",
      "      {\n",
      "        \"appid\": 205790,\n",
      "        \"name\": \"Dota 2 Test\",\n",
      "        \"playtime_forever\": 213,\n",
      "        \"img_icon_url\": \"\",\n",
      "        \"img_logo_url\": \"\"\n",
      "      },\n",
      "      {\n",
      "        \"appid\": 527230,\n",
      "        \"name\": \"For The King\",\n",
      "        \"playtime_forever\": 116,\n",
      "        \"img_icon_url\": \"790411a4c44e243fa19fe8b3b6a8ca15679c7fbf\",\n",
      "        \"img_logo_url\": \"c720262f506331e4732d5df05dc95ca1665420dd\",\n",
      "        \"has_community_visible_stats\": true\n",
      "      },\n",
      "      {\n",
      "        \"appid\": 578080,\n",
      "        \"name\": \"PLAYERUNKNOWN'S BATTLEGROUNDS\",\n",
      "        \"playtime_forever\": 116,\n",
      "        \"img_icon_url\": \"93d896e7d7a42ae35c1d77239430e1d90bc82cae\",\n",
      "        \"img_logo_url\": \"2d2732a33511b58c69aff6b098a22687a3bb8533\",\n",
      "        \"has_community_visible_stats\": true\n",
      "      }\n",
      "    ]\n",
      "  }\n",
      "}\n"
     ]
    }
   ],
   "source": [
    "response = api.IPlayerService.GetOwnedGames(steamid=76561198110726588, include_appinfo=1, include_played_free_games=0, appids_filter=[])\n",
    "print(json.dumps(response, indent=2))"
   ]
  },
  {
   "cell_type": "code",
   "execution_count": 12,
   "metadata": {},
   "outputs": [
    {
     "name": "stdout",
     "output_type": "stream",
     "text": [
      "{\n",
      "  \"response\": {\n",
      "    \"game_count\": 4,\n",
      "    \"games\": [\n",
      "      {\n",
      "        \"appid\": 205790,\n",
      "        \"name\": \"Dota 2 Test\",\n",
      "        \"playtime_forever\": 213,\n",
      "        \"img_icon_url\": \"\",\n",
      "        \"img_logo_url\": \"\"\n",
      "      },\n",
      "      {\n",
      "        \"appid\": 527230,\n",
      "        \"name\": \"For The King\",\n",
      "        \"playtime_forever\": 116,\n",
      "        \"img_icon_url\": \"790411a4c44e243fa19fe8b3b6a8ca15679c7fbf\",\n",
      "        \"img_logo_url\": \"c720262f506331e4732d5df05dc95ca1665420dd\",\n",
      "        \"has_community_visible_stats\": true\n",
      "      },\n",
      "      {\n",
      "        \"appid\": 578080,\n",
      "        \"name\": \"PLAYERUNKNOWN'S BATTLEGROUNDS\",\n",
      "        \"playtime_forever\": 116,\n",
      "        \"img_icon_url\": \"93d896e7d7a42ae35c1d77239430e1d90bc82cae\",\n",
      "        \"img_logo_url\": \"2d2732a33511b58c69aff6b098a22687a3bb8533\",\n",
      "        \"has_community_visible_stats\": true\n",
      "      },\n",
      "      {\n",
      "        \"appid\": 570,\n",
      "        \"name\": \"Dota 2\",\n",
      "        \"playtime_2weeks\": 565,\n",
      "        \"playtime_forever\": 37087,\n",
      "        \"img_icon_url\": \"0bbb630d63262dd66d2fdd0f7d37e8661a410075\",\n",
      "        \"img_logo_url\": \"d4f836839254be08d8e9dd333ecc9a01782c26d2\"\n",
      "      }\n",
      "    ]\n",
      "  }\n",
      "}\n"
     ]
    }
   ],
   "source": [
    "# get all games but include free gmaes\n",
    "response = api.IPlayerService.GetOwnedGames(steamid=76561198110726588, include_appinfo=1, include_played_free_games=1, appids_filter=[])\n",
    "print(json.dumps(response, indent=2))\n",
    "\n",
    "#notice playtime is in mintues not hours"
   ]
  },
  {
   "cell_type": "markdown",
   "metadata": {},
   "source": [
    "# get app price ( does'nt need authentication) \n",
    "\n",
    "You can get all apps (games), and the IDs for it, by using this API:\n",
    "\n",
    "http://api.steampowered.com/ISteamApps/GetAppList/v0001/\n",
    "You will get nearly every information you need about a game (including screenshots).\n",
    "\n",
    "Region\n",
    "\n",
    "You can change the region by adding the parameter cc.\n",
    "\n",
    "For example:\n",
    "\n",
    "http://store.steampowered.com/api/appdetails?appids=57690&cc=us\n",
    "http://store.steampowered.com/api/appdetails?appids=57690&cc=gb\n",
    "http://store.steampowered.com/api/appdetails?appids=57690&cc=de\n",
    "\n",
    "Appid 57690 = Tropico 4\n",
    "\n",
    "http://store.steampowered.com/api/appdetails?appids=57690\n",
    "Part of the response:\n",
    "\n",
    "\"price_overview\":{\n",
    "    \"currency\":\"EUR\",\n",
    "    \"initial\":2999,\n",
    "    \"final\":2999,\n",
    "    \"discount_percent\":0\n",
    "}\n",
    "\n",
    "\n",
    "2999 is likely 29.99\n",
    "\n"
   ]
  },
  {
   "cell_type": "code",
   "execution_count": null,
   "metadata": {
    "collapsed": true
   },
   "outputs": [],
   "source": []
  }
 ],
 "metadata": {
  "kernelspec": {
   "display_name": "Python 3",
   "language": "python",
   "name": "python3"
  },
  "language_info": {
   "codemirror_mode": {
    "name": "ipython",
    "version": 3
   },
   "file_extension": ".py",
   "mimetype": "text/x-python",
   "name": "python",
   "nbconvert_exporter": "python",
   "pygments_lexer": "ipython3",
   "version": "3.6.1"
  }
 },
 "nbformat": 4,
 "nbformat_minor": 2
}
