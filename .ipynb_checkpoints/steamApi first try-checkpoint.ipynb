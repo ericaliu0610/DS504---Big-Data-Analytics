{
 "cells": [
  {
   "cell_type": "markdown",
   "metadata": {},
   "source": [
    "# Steam API "
   ]
  },
  {
   "cell_type": "code",
   "execution_count": 161,
   "metadata": {
    "collapsed": true
   },
   "outputs": [],
   "source": [
    "from steam import WebAPI\n",
    "import json\n",
    "import random\n",
    "import datetime\n",
    "from pymongo import MongoClient\n",
    "import time\n",
    "\n",
    "client = MongoClient()\n",
    "db = client.steam\n"
   ]
  },
  {
   "cell_type": "code",
   "execution_count": 106,
   "metadata": {
    "scrolled": true
   },
   "outputs": [
    {
     "name": "stdout",
     "output_type": "stream",
     "text": [
      "width is: 462322 \n"
     ]
    }
   ],
   "source": [
    "#Generating the ID list for sampling\n",
    "\n",
    "#constant\n",
    "init = 76561197960265728\n",
    "end = 76561198422588320\n",
    "\n",
    "#parameter\n",
    "bucket = 1000\n",
    "numOfBuckets = 50\n",
    "numPerBucket = 1000\n",
    "width = (end-init)//bucket\n",
    "print(\"width is: %d \" % width)\n",
    "now = datetime.datetime.now()\n",
    "\n",
    "idsFilename = 'idList_' + now.strftime(\"%Y-%m-%d %H-%M\")\n",
    "bucketsFilename =\"bucketsList_\" + now.strftime(\"%Y-%m-%d %H-%M\")\n",
    "\n",
    "\n",
    "def generate_no_replacement(idfilename,bucketfilename):\n",
    "    bucketFile = open(bucketsFilename,'w')\n",
    "    with open(idfilename,'w')as idFile:\n",
    "        for i in random.sample(range(bucket),numOfBuckets):\n",
    "            bucketFile.write(str(i) + '\\n')\n",
    "            rand = random.sample(range(width),numPerBucket)\n",
    "            ids = [init+i*width+j for j in rand]\n",
    "            for n in ids:\n",
    "                idFile.write(str(n)+'\\n')\n",
    "    idFile.close()\n",
    "    bucketFile.close()\n",
    "\n",
    "def generate_replacement(idfilename,bucketfilename):\n",
    "    bucketFile = open(bucketsFilename,'w')\n",
    "    with open(idfilename,'w')as idFile:\n",
    "        for i in range(numOfBuckets):\n",
    "            k = random.choice(range(bucket))\n",
    "            bucketFile.write(str(k) + '\\n')\n",
    "            for j in range(numPerBucket):\n",
    "                n = init+k*width+random.choice(range(width))\n",
    "                idFile.write(str(n)+'\\n')\n",
    "    idFile.close()\n",
    "    bucketFile.close()\n"
   ]
  },
  {
   "cell_type": "code",
   "execution_count": 107,
   "metadata": {},
   "outputs": [],
   "source": [
    "#generate_no_replacement(filename, bucketsFilename)\n",
    "generate_replacement(idsFilename, bucketsFilename)"
   ]
  },
  {
   "cell_type": "code",
   "execution_count": 54,
   "metadata": {
    "collapsed": true
   },
   "outputs": [],
   "source": [
    "key=\"F586721EBB57C09738BFA05583825173\"\n",
    "api = WebAPI(key=key)"
   ]
  },
  {
   "cell_type": "markdown",
   "metadata": {},
   "source": [
    "ISteamUser\n",
    "\n",
    "GetPlayerSummaries\n",
    "\n",
    "steamids=76561198110726588,76561198422588320\n",
    "\n",
    "steamids\n",
    "Comma-delimited list of 64 bit Steam IDs to return profile information for. Up to 100 Steam IDs can be requested.\n",
    "\n",
    "communityvisibilitystate : \n",
    "This represents whether the profile is visible or not, and if it is visible, why you are allowed to see it. Note that because this WebAPI does not use authentication, there are only two possible values returned: 1 - the profile is not visible to you (Private, Friends Only, etc), 3 - the profile is \"Public\", and the data is visible.\n"
   ]
  },
  {
   "cell_type": "markdown",
   "metadata": {},
   "source": [
    "** Get player summary - test **"
   ]
  },
  {
   "cell_type": "code",
   "execution_count": 160,
   "metadata": {},
   "outputs": [
    {
     "name": "stdout",
     "output_type": "stream",
     "text": [
      "{\n",
      "  \"response\": {\n",
      "    \"players\": []\n",
      "  }\n",
      "}\n"
     ]
    }
   ],
   "source": [
    "response = api.ISteamUser.GetPlayerSummaries(steamids=\"76561198207709726\")\n",
    "print(json.dumps(response, indent=2))"
   ]
  },
  {
   "cell_type": "code",
   "execution_count": 102,
   "metadata": {},
   "outputs": [
    {
     "name": "stdout",
     "output_type": "stream",
     "text": [
      "[\n",
      "  {\n",
      "    \"steamid\": \"76561198110626464\",\n",
      "    \"communityvisibilitystate\": 2,\n",
      "    \"profilestate\": 1,\n",
      "    \"personaname\": \"Jahah\",\n",
      "    \"lastlogoff\": 1489929966,\n",
      "    \"profileurl\": \"http://steamcommunity.com/id/jaharay/\",\n",
      "    \"avatar\": \"https://steamcdn-a.akamaihd.net/steamcommunity/public/images/avatars/d4/d4cabbe77e72e9f7204ae33535e4264d746a50f8.jpg\",\n",
      "    \"avatarmedium\": \"https://steamcdn-a.akamaihd.net/steamcommunity/public/images/avatars/d4/d4cabbe77e72e9f7204ae33535e4264d746a50f8_medium.jpg\",\n",
      "    \"avatarfull\": \"https://steamcdn-a.akamaihd.net/steamcommunity/public/images/avatars/d4/d4cabbe77e72e9f7204ae33535e4264d746a50f8_full.jpg\",\n",
      "    \"personastate\": 0\n",
      "  },\n",
      "  {\n",
      "    \"steamid\": \"76561198110626467\",\n",
      "    \"communityvisibilitystate\": 3,\n",
      "    \"personaname\": \"maks-ivanov-2002\",\n",
      "    \"profileurl\": \"http://steamcommunity.com/profiles/76561198110626467/\",\n",
      "    \"avatar\": \"https://steamcdn-a.akamaihd.net/steamcommunity/public/images/avatars/fe/fef49e7fa7e1997310d705b2a6158ff8dc1cdfeb.jpg\",\n",
      "    \"avatarmedium\": \"https://steamcdn-a.akamaihd.net/steamcommunity/public/images/avatars/fe/fef49e7fa7e1997310d705b2a6158ff8dc1cdfeb_medium.jpg\",\n",
      "    \"avatarfull\": \"https://steamcdn-a.akamaihd.net/steamcommunity/public/images/avatars/fe/fef49e7fa7e1997310d705b2a6158ff8dc1cdfeb_full.jpg\",\n",
      "    \"personastate\": 0,\n",
      "    \"primaryclanid\": \"103582791429521408\",\n",
      "    \"timecreated\": 1381570984,\n",
      "    \"personastateflags\": 0\n",
      "  }\n",
      "]\n"
     ]
    }
   ],
   "source": [
    "response = api.ISteamUser.GetPlayerSummaries(steamids=\"76561198110626464,76561198110626467\")\n",
    "print(json.dumps(response['response']['players'], indent=2))"
   ]
  },
  {
   "cell_type": "code",
   "execution_count": 103,
   "metadata": {},
   "outputs": [],
   "source": [
    "result = db.GetPlayerSummaries.insert_many(response['response']['players'])"
   ]
  },
  {
   "cell_type": "markdown",
   "metadata": {},
   "source": [
    "76561198110626464 \n",
    "\n",
    "communityvisibilitystate\": 2 ( 3 is public, 1 is private)\n",
    "\n",
    "list of games is empty! \n",
    "\n",
    "we still able to see name and lastlogoff."
   ]
  },
  {
   "cell_type": "markdown",
   "metadata": {},
   "source": [
    "** get list of games ** "
   ]
  },
  {
   "cell_type": "code",
   "execution_count": 81,
   "metadata": {},
   "outputs": [
    {
     "name": "stdout",
     "output_type": "stream",
     "text": [
      "{\n",
      "  \"response\": {}\n",
      "}\n"
     ]
    }
   ],
   "source": [
    "response = api.IPlayerService.GetOwnedGames(steamid=76561198110626464, include_appinfo=1, include_played_free_games=0, appids_filter=[])\n",
    "print(json.dumps(response, indent=2))"
   ]
  },
  {
   "cell_type": "code",
   "execution_count": 69,
   "metadata": {},
   "outputs": [
    {
     "name": "stdout",
     "output_type": "stream",
     "text": [
      "{\n",
      "  \"response\": {}\n",
      "}\n"
     ]
    }
   ],
   "source": [
    "# get all games but include free gmaes\n",
    "response = api.IPlayerService.GetOwnedGames(steamid=76561198110526580, include_appinfo=1, include_played_free_games=1, appids_filter=[])\n",
    "print(json.dumps(response, indent=2))\n",
    "\n",
    "#notice playtime is in mintues not hours"
   ]
  },
  {
   "cell_type": "code",
   "execution_count": 169,
   "metadata": {},
   "outputs": [
    {
     "name": "stdout",
     "output_type": "stream",
     "text": [
      "50000\n",
      "#queried Ids100 - #responsed 77\n"
     ]
    }
   ],
   "source": [
    "# go over all collected list, but the ids in chuncks of 100. and collect all players details. \n",
    "f = open('idList_2017-09-23 03-08', 'r')\n",
    "x = f.readlines()\n",
    "print (len(x))\n",
    "stripX = [i.strip('\\n') for i in x]\n",
    "\n",
    "chunkSize = 100\n",
    "l = [ stripX[i:i + chunkSize] for i in range(0, len(stripX), chunkSize) ]\n",
    "\n",
    "queriedIdCounter = 0\n",
    "responseCounter = 0\n",
    "for i in l:\n",
    "    steamChunckIds = ','.join(map(str, i))\n",
    "    response = api.ISteamUser.GetPlayerSummaries(steamids=steamChunckIds)\n",
    "    db.GetPlayerSummaries.insert_many(response['response']['players'])\n",
    "    queriedIdCounter += len(i)\n",
    "    responseCounter += len(response['response']['players'])\n",
    "    time.sleep(.250)\n",
    "\n",
    "print(\"#queried Ids: {} - #responsed: {}\".format(queriedIdCounter, responseCounter))"
   ]
  },
  {
   "cell_type": "markdown",
   "metadata": {},
   "source": [
    "# get app price ( does'nt need authentication) \n",
    "\n",
    "You can get all apps (games), and the IDs for it, by using this API:\n",
    "\n",
    "http://api.steampowered.com/ISteamApps/GetAppList/v0001/\n",
    "You will get nearly every information you need about a game (including screenshots).\n",
    "\n",
    "Region\n",
    "\n",
    "You can change the region by adding the parameter cc.\n",
    "\n",
    "For example:\n",
    "\n",
    "http://store.steampowered.com/api/appdetails?appids=57690&cc=us\n",
    "http://store.steampowered.com/api/appdetails?appids=57690&cc=gb\n",
    "http://store.steampowered.com/api/appdetails?appids=57690&cc=de\n",
    "\n",
    "Appid 57690 = Tropico 4\n",
    "\n",
    "http://store.steampowered.com/api/appdetails?appids=57690\n",
    "Part of the response:\n",
    "\n",
    "\"price_overview\":{\n",
    "    \"currency\":\"EUR\",\n",
    "    \"initial\":2999,\n",
    "    \"final\":2999,\n",
    "    \"discount_percent\":0\n",
    "}\n",
    "\n",
    "\n",
    "2999 is likely 29.99\n",
    "\n"
   ]
  },
  {
   "cell_type": "code",
   "execution_count": null,
   "metadata": {
    "collapsed": true
   },
   "outputs": [],
   "source": []
  }
 ],
 "metadata": {
  "kernelspec": {
   "display_name": "Python 3",
   "language": "python",
   "name": "python3"
  },
  "language_info": {
   "codemirror_mode": {
    "name": "ipython",
    "version": 3
   },
   "file_extension": ".py",
   "mimetype": "text/x-python",
   "name": "python",
   "nbconvert_exporter": "python",
   "pygments_lexer": "ipython3",
   "version": "3.6.1"
  }
 },
 "nbformat": 4,
 "nbformat_minor": 2
}
