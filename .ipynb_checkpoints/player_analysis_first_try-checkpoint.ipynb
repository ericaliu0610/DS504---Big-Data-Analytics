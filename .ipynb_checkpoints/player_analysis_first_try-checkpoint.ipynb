{
 "cells": [
  {
   "cell_type": "markdown",
   "metadata": {},
   "source": [
    "# Data Exploration:)"
   ]
  },
  {
   "cell_type": "markdown",
   "metadata": {},
   "source": [
    "import steam.GetPlayerSummaries.json file and steam.GetOwnedGames.json"
   ]
  },
  {
   "cell_type": "code",
   "execution_count": 28,
   "metadata": {},
   "outputs": [
    {
     "data": {
      "text/plain": [
       "['ownedGames',\n",
       " 'GetPlayerSummaries09250948',\n",
       " 'GetOwnedGames09240049',\n",
       " 'playerSum',\n",
       " 'GetPlayerSummaries09241524',\n",
       " 'GetOwnedGames09250948',\n",
       " 'GetOwnedGames09231725',\n",
       " 'GetPlayerSummaries09231725',\n",
       " 'GetPlayerSummaries09240049',\n",
       " 'GetOwnedGames09241524']"
      ]
     },
     "execution_count": 28,
     "metadata": {},
     "output_type": "execute_result"
    }
   ],
   "source": [
    "import json\n",
    "import pprint\n",
    "from pymongo import MongoClient\n",
    "import pandas as pd\n",
    "\n",
    "client = MongoClient()\n",
    "db = client.DS504\n",
    "db.collection_names(include_system_collections=False)"
   ]
  },
  {
   "cell_type": "code",
   "execution_count": 18,
   "metadata": {
    "collapsed": true
   },
   "outputs": [],
   "source": [
    "playerSum = db.playerSum\n",
    "ownedGames = db.ownedGames\n",
    "playerTotal = 45709\n",
    "gamesTotal = 35670\n",
    "init = 76561197960265728\n",
    "end = 76561198422588320"
   ]
  },
  {
   "cell_type": "markdown",
   "metadata": {},
   "source": [
    "## The propotion of private (or friend view only) users and public users in PlayerSummaries. \n",
    "\n",
    "\"communityvisibilitystate\": 3    --public"
   ]
  },
  {
   "cell_type": "code",
   "execution_count": 22,
   "metadata": {
    "collapsed": true
   },
   "outputs": [],
   "source": [
    "a = playerSum.aggregate([{\"$group\": {\"_id\": \"$communityvisibilitystate\", \"count\":{\"$sum\":1}}}], useCursor=False)"
   ]
  },
  {
   "cell_type": "code",
   "execution_count": 23,
   "metadata": {},
   "outputs": [
    {
     "data": {
      "text/plain": [
       "[{'_id': 2, 'count': 808},\n",
       " {'_id': 1, 'count': 620},\n",
       " {'_id': 3, 'count': 44281}]"
      ]
     },
     "execution_count": 23,
     "metadata": {},
     "output_type": "execute_result"
    }
   ],
   "source": [
    "list(a)"
   ]
  },
  {
   "cell_type": "code",
   "execution_count": 24,
   "metadata": {},
   "outputs": [
    {
     "data": {
      "text/plain": [
       "0.9687588877463956"
      ]
     },
     "execution_count": 24,
     "metadata": {},
     "output_type": "execute_result"
    }
   ],
   "source": [
    "44281/playerTotal"
   ]
  },
  {
   "cell_type": "markdown",
   "metadata": {},
   "source": [
    "### 96.9% users are public users."
   ]
  },
  {
   "cell_type": "markdown",
   "metadata": {},
   "source": [
    "## The propotion of private (or friend view only) users and public users in OwnedGames. "
   ]
  },
  {
   "cell_type": "code",
   "execution_count": 119,
   "metadata": {},
   "outputs": [
    {
     "data": {
      "text/plain": [
       "0.7134"
      ]
     },
     "execution_count": 119,
     "metadata": {},
     "output_type": "execute_result"
    }
   ],
   "source": [
    "gamesTotal/50000"
   ]
  },
  {
   "cell_type": "markdown",
   "metadata": {},
   "source": [
    "### 71.3% users public his/her list of owned games"
   ]
  },
  {
   "cell_type": "markdown",
   "metadata": {},
   "source": [
    "## Number of active users (logged in recent half year - Mar 25th 2017)\n",
    "Epoch timestamp: 1490424459\n",
    "Timestamp in milliseconds: 1490424459000\n",
    "Human time (GMT): Saturday, March 25, 2017 6:47:39 AM"
   ]
  },
  {
   "cell_type": "code",
   "execution_count": 162,
   "metadata": {},
   "outputs": [
    {
     "name": "stdout",
     "output_type": "stream",
     "text": [
      "20925\n",
      "0.45778730665733225\n"
     ]
    }
   ],
   "source": [
    "numActiveUsers = playerSum.find({\"lastlogoff\": {\"$gt\": 1490424459}}).count() + playerSum.find({\"lastlogoff\": {\"$exists\": False}, \"personastate\": 0}).count()\n",
    "print(numActiveUsers)\n",
    "print(numActiveUsers/ playerTotal)"
   ]
  },
  {
   "cell_type": "markdown",
   "metadata": {},
   "source": [
    "### the number of active users is 20925, it's 45.8% of total users"
   ]
  },
  {
   "cell_type": "markdown",
   "metadata": {},
   "source": [
    "## Average playtime by appid (game)"
   ]
  },
  {
   "cell_type": "code",
   "execution_count": 232,
   "metadata": {
    "collapsed": true
   },
   "outputs": [],
   "source": [
    "b = ownedGames.aggregate([{\"$unwind\": \"$response\"}, \n",
    "   #                       {\"$match\":{\"$response.game_count\": {\"gt\": 0}} }, \n",
    "                          {\"$unwind\": \"$response.games\"},\n",
    "                          {\"$group\":{\n",
    "                             \"_id\":{\n",
    "                                 \"appid\": \"$response.games.appid\",\n",
    "                                 \"name\": \"$response.games.name\"\n",
    "                             },\n",
    "                             \"numPlayer\":{\"$sum\": 1},\n",
    "                             \"totalTime\": {\"$sum\": \"$response.games.playtime_forever\"}\n",
    "                          }}\n",
    "                         ])"
   ]
  },
  {
   "cell_type": "code",
   "execution_count": 233,
   "metadata": {},
   "outputs": [
    {
     "data": {
      "text/html": [
       "<div>\n",
       "<style>\n",
       "    .dataframe thead tr:only-child th {\n",
       "        text-align: right;\n",
       "    }\n",
       "\n",
       "    .dataframe thead th {\n",
       "        text-align: left;\n",
       "    }\n",
       "\n",
       "    .dataframe tbody tr th {\n",
       "        vertical-align: top;\n",
       "    }\n",
       "</style>\n",
       "<table border=\"1\" class=\"dataframe\">\n",
       "  <thead>\n",
       "    <tr style=\"text-align: right;\">\n",
       "      <th></th>\n",
       "      <th>appid</th>\n",
       "      <th>name</th>\n",
       "      <th>numPlayer</th>\n",
       "      <th>totalTime</th>\n",
       "    </tr>\n",
       "  </thead>\n",
       "  <tbody>\n",
       "    <tr>\n",
       "      <th>0</th>\n",
       "      <td>263940</td>\n",
       "      <td>Red Baron Pack</td>\n",
       "      <td>1</td>\n",
       "      <td>0</td>\n",
       "    </tr>\n",
       "    <tr>\n",
       "      <th>1</th>\n",
       "      <td>592300</td>\n",
       "      <td>Slowdrive</td>\n",
       "      <td>1</td>\n",
       "      <td>110</td>\n",
       "    </tr>\n",
       "    <tr>\n",
       "      <th>2</th>\n",
       "      <td>551500</td>\n",
       "      <td>Star Fight</td>\n",
       "      <td>1</td>\n",
       "      <td>0</td>\n",
       "    </tr>\n",
       "    <tr>\n",
       "      <th>3</th>\n",
       "      <td>549670</td>\n",
       "      <td>Incursion The Thing</td>\n",
       "      <td>1</td>\n",
       "      <td>277</td>\n",
       "    </tr>\n",
       "    <tr>\n",
       "      <th>4</th>\n",
       "      <td>592780</td>\n",
       "      <td>Bang Bang Car</td>\n",
       "      <td>1</td>\n",
       "      <td>0</td>\n",
       "    </tr>\n",
       "  </tbody>\n",
       "</table>\n",
       "</div>"
      ],
      "text/plain": [
       "    appid                 name  numPlayer  totalTime\n",
       "0  263940       Red Baron Pack          1          0\n",
       "1  592300            Slowdrive          1        110\n",
       "2  551500           Star Fight          1          0\n",
       "3  549670  Incursion The Thing          1        277\n",
       "4  592780        Bang Bang Car          1          0"
      ]
     },
     "execution_count": 233,
     "metadata": {},
     "output_type": "execute_result"
    }
   ],
   "source": [
    "l=[]\n",
    "for line in b:\n",
    "    l.append([line['_id']['appid'], line['_id']['name'], line['numPlayer'], line['totalTime']])\n",
    "\n",
    "gameData = pd.DataFrame(l, columns=('appid', 'name', 'numPlayer', 'totalTime'))\n",
    "gameData.head()"
   ]
  },
  {
   "cell_type": "code",
   "execution_count": 236,
   "metadata": {},
   "outputs": [
    {
     "data": {
      "text/html": [
       "<div>\n",
       "<style>\n",
       "    .dataframe thead tr:only-child th {\n",
       "        text-align: right;\n",
       "    }\n",
       "\n",
       "    .dataframe thead th {\n",
       "        text-align: left;\n",
       "    }\n",
       "\n",
       "    .dataframe tbody tr th {\n",
       "        vertical-align: top;\n",
       "    }\n",
       "</style>\n",
       "<table border=\"1\" class=\"dataframe\">\n",
       "  <thead>\n",
       "    <tr style=\"text-align: right;\">\n",
       "      <th></th>\n",
       "      <th>appid</th>\n",
       "      <th>name</th>\n",
       "      <th>numPlayer</th>\n",
       "      <th>totalTime</th>\n",
       "      <th>avgTime(h)PerP</th>\n",
       "    </tr>\n",
       "  </thead>\n",
       "  <tbody>\n",
       "    <tr>\n",
       "      <th>0</th>\n",
       "      <td>263940</td>\n",
       "      <td>Red Baron Pack</td>\n",
       "      <td>1</td>\n",
       "      <td>0</td>\n",
       "      <td>0.000000</td>\n",
       "    </tr>\n",
       "    <tr>\n",
       "      <th>1</th>\n",
       "      <td>592300</td>\n",
       "      <td>Slowdrive</td>\n",
       "      <td>1</td>\n",
       "      <td>110</td>\n",
       "      <td>1.833333</td>\n",
       "    </tr>\n",
       "    <tr>\n",
       "      <th>2</th>\n",
       "      <td>551500</td>\n",
       "      <td>Star Fight</td>\n",
       "      <td>1</td>\n",
       "      <td>0</td>\n",
       "      <td>0.000000</td>\n",
       "    </tr>\n",
       "    <tr>\n",
       "      <th>3</th>\n",
       "      <td>549670</td>\n",
       "      <td>Incursion The Thing</td>\n",
       "      <td>1</td>\n",
       "      <td>277</td>\n",
       "      <td>4.616667</td>\n",
       "    </tr>\n",
       "    <tr>\n",
       "      <th>4</th>\n",
       "      <td>592780</td>\n",
       "      <td>Bang Bang Car</td>\n",
       "      <td>1</td>\n",
       "      <td>0</td>\n",
       "      <td>0.000000</td>\n",
       "    </tr>\n",
       "    <tr>\n",
       "      <th>5</th>\n",
       "      <td>428220</td>\n",
       "      <td>TurnOn</td>\n",
       "      <td>1</td>\n",
       "      <td>0</td>\n",
       "      <td>0.000000</td>\n",
       "    </tr>\n",
       "    <tr>\n",
       "      <th>6</th>\n",
       "      <td>692140</td>\n",
       "      <td>Pressure Overdrive - Soundtrack</td>\n",
       "      <td>1</td>\n",
       "      <td>0</td>\n",
       "      <td>0.000000</td>\n",
       "    </tr>\n",
       "    <tr>\n",
       "      <th>7</th>\n",
       "      <td>425240</td>\n",
       "      <td>Pressure Overdrive</td>\n",
       "      <td>1</td>\n",
       "      <td>0</td>\n",
       "      <td>0.000000</td>\n",
       "    </tr>\n",
       "    <tr>\n",
       "      <th>8</th>\n",
       "      <td>534980</td>\n",
       "      <td>Never Forget Me</td>\n",
       "      <td>1</td>\n",
       "      <td>1</td>\n",
       "      <td>0.016667</td>\n",
       "    </tr>\n",
       "    <tr>\n",
       "      <th>9</th>\n",
       "      <td>512180</td>\n",
       "      <td>Nightshade</td>\n",
       "      <td>1</td>\n",
       "      <td>2</td>\n",
       "      <td>0.033333</td>\n",
       "    </tr>\n",
       "  </tbody>\n",
       "</table>\n",
       "</div>"
      ],
      "text/plain": [
       "    appid                             name  numPlayer  totalTime  \\\n",
       "0  263940                   Red Baron Pack          1          0   \n",
       "1  592300                        Slowdrive          1        110   \n",
       "2  551500                       Star Fight          1          0   \n",
       "3  549670              Incursion The Thing          1        277   \n",
       "4  592780                    Bang Bang Car          1          0   \n",
       "5  428220                           TurnOn          1          0   \n",
       "6  692140  Pressure Overdrive - Soundtrack          1          0   \n",
       "7  425240               Pressure Overdrive          1          0   \n",
       "8  534980                  Never Forget Me          1          1   \n",
       "9  512180                       Nightshade          1          2   \n",
       "\n",
       "   avgTime(h)PerP  \n",
       "0        0.000000  \n",
       "1        1.833333  \n",
       "2        0.000000  \n",
       "3        4.616667  \n",
       "4        0.000000  \n",
       "5        0.000000  \n",
       "6        0.000000  \n",
       "7        0.000000  \n",
       "8        0.016667  \n",
       "9        0.033333  "
      ]
     },
     "execution_count": 236,
     "metadata": {},
     "output_type": "execute_result"
    }
   ],
   "source": [
    "gameData['avgTime(h)PerP'] = gameData['totalTime']/gameData['numPlayer']/float(60)\n",
    "gameData.head(10)"
   ]
  },
  {
   "cell_type": "code",
   "execution_count": 256,
   "metadata": {},
   "outputs": [
    {
     "data": {
      "image/png": "[encoded data removed]",
      "text/plain": [
       "<matplotlib.figure.Figure at 0x1da0284d7b8>"
      ]
     },
     "metadata": {},
     "output_type": "display_data"
    },
    {
     "data": {
      "text/plain": [
       "appid                             314980\n",
       "name              Supreme Ruler Ultimate\n",
       "numPlayer                              1\n",
       "totalTime                          77716\n",
       "avgTime(h)PerP                   1295.27\n",
       "Name: 119, dtype: object"
      ]
     },
     "execution_count": 256,
     "metadata": {},
     "output_type": "execute_result"
    }
   ],
   "source": [
    "import matplotlib.pyplot as plt\n",
    "avgTime = gameData['avgTime(h)PerP']\n",
    "avgTime.plot.hist(alpha=0.5, bins=1000)\n",
    "plt.show()\n",
    "\n",
    "print('The maximu')\n",
    "gameData.loc[gameData['avgTime(h)PerP'].argmax()]"
   ]
  },
  {
   "cell_type": "code",
   "execution_count": 15,
   "metadata": {},
   "outputs": [
    {
     "name": "stdout",
     "output_type": "stream",
     "text": [
      "                   0\n",
      "0  76561198208019028\n",
      "1  76561198207709726\n",
      "2  76561198207893896\n",
      "3  76561198207943779\n",
      "4  76561198207841163\n",
      "     0\n",
      "0  535\n",
      "1  589\n",
      "2   58\n",
      "3  253\n",
      "4  373\n"
     ]
    }
   ],
   "source": [
    "idSample = pd.read_csv(\"idList_2017-09-23 03-08\", header = None)\n",
    "print(idSample.head())\n",
    "\n",
    "bucketSample = pd.read_csv(\"bucketsList_2017-09-23 03-08\", header = None)\n",
    "print(bucketSample.head())"
   ]
  },
  {
   "cell_type": "markdown",
   "metadata": {},
   "source": [
    "## Examine the distribution of invalid user (for random sampled bucket sampling)"
   ]
  },
  {
   "cell_type": "code",
   "execution_count": 59,
   "metadata": {},
   "outputs": [
    {
     "name": "stdout",
     "output_type": "stream",
     "text": [
      "[1, 8, 12, 16, 20, 25, 32, 34, 35, 37, 41, 47, 49, 55, 59, 66, 68, 69, 70, 73, 85, 93, 95, 100, 102, 103, 108, 113, 114, 118, 121, 125, 126, 129, 131, 137, 144, 157, 159, 163, 165, 167, 169, 173, 175, 179, 181, 182, 184, 185, 187, 191, 199, 200, 207, 210, 212, 213, 215, 220, 222, 232, 240, 252, 257, 268, 269, 272, 274, 277, 280, 284, 287, 290, 292, 297, 298, 309, 318, 323, 325, 326, 331, 333, 340, 350, 355, 358, 361, 366, 367, 368, 369, 372, 378, 379, 381, 382, 383, 396, 398, 402, 404, 405, 411, 415, 417, 418, 421, 428, 432, 433, 436, 437, 438, 443, 448, 454, 455, 459, 469, 470, 480, 484, 494, 498, 501, 503, 507, 510, 514, 516, 517, 518, 520, 533, 542, 546, 547, 548, 549, 550, 554, 565, 568, 569, 573, 576, 582, 586, 588, 593, 594, 606, 615, 622, 628, 633, 645, 648, 652, 657, 660, 668, 669, 673, 676, 679, 680, 685, 687, 688, 691, 701, 704, 707, 711, 712, 719, 721, 722, 724, 726, 731, 744, 747, 748, 750, 757, 758, 760, 765, 779, 788, 794, 804, 805, 812, 815, 817, 818, 820, 833, 835, 837, 844, 845, 847, 848, 851, 855, 858, 860, 868, 873, 895, 896, 899, 907, 908, 913, 917, 921, 930, 935, 937, 943, 944, 945, 950, 951, 952, 954, 955, 961, 963, 964, 968, 971, 972, 973, 979, 985, 992, 993, 1000, 1001, 1002, 1003, 1004, 1005, 1006, 1007, 1008, 1009, 1010, 1011, 1012, 1014, 1015, 1017, 1018, 1019, 1020, 1021, 1022, 1023, 1024, 1026, 1027, 1028, 1029, 1031, 1033, 1034, 1037, 1039, 1041, 1042, 1043, 1044, 1047, 1048, 1049, 1051, 1052, 1053, 1054, 1056, 1057, 1060, 1062, 1063, 1065, 1066, 1067, 1069, 1070, 1072, 1073, 1074, 1075, 1077, 1078, 1080, 1081, 1082, 1083, 1085, 1087, 1088, 1089, 1090, 1092, 1093, 1094, 1095, 1096, 1097, 1099, 1101, 1102, 1103, 1106, 1108, 1109, 1110, 1112, 1114, 1117, 1118, 1119, 1120, 1121, 1122, 1124, 1125, 1127, 1128, 1129, 1131, 1133, 1134, 1137, 1138, 1139, 1140, 1141, 1142, 1143, 1144, 1146, 1147, 1148, 1150, 1151, 1152, 1153, 1154, 1155, 1156, 1157, 1158, 1159, 1160, 1161, 1163, 1164, 1165, 1166, 1169, 1170, 1171, 1172, 1173, 1174, 1175, 1176, 1177, 1178, 1179, 1181, 1183, 1185, 1186, 1187, 1188, 1189, 1190, 1191, 1192, 1193, 1194, 1195, 1196, 1197, 1199, 1200, 1201, 1202, 1203, 1204, 1205, 1206, 1207, 1210, 1211, 1214, 1216, 1217, 1218, 1219, 1220, 1221, 1222, 1225, 1226, 1227, 1228, 1229, 1230, 1231, 1232, 1233, 1234, 1235, 1236, 1237, 1238, 1239, 1240, 1243, 1245, 1247, 1248, 1249, 1250, 1251, 1252, 1253, 1254, 1255, 1256, 1257, 1259, 1261, 1264, 1266, 1267, 1268, 1270, 1271, 1272, 1273, 1274, 1275, 1277, 1278, 1279, 1280, 1281, 1283, 1284, 1287, 1288, 1289, 1290, 1291, 1292, 1296, 1297, 1299, 1301, 1302, 1303, 1304, 1305, 1306, 1308, 1309, 1310, 1311, 1313, 1314, 1318, 1319, 1320, 1321, 1322, 1323, 1324, 1325, 1326, 1328, 1329, 1330, 1331, 1332, 1333, 1334, 1335, 1337, 1338, 1340, 1341, 1342, 1343, 1345, 1346, 1348, 1349, 1350, 1352, 1353, 1355, 1356, 1357, 1359, 1360, 1361, 1362, 1363, 1364, 1365, 1366, 1367, 1370, 1371, 1372, 1373, 1375, 1376, 1377, 1379, 1380, 1382, 1383, 1384, 1385, 1386, 1387, 1388, 1389, 1391, 1393, 1394, 1395, 1396, 1398, 1399, 1400, 1401, 1402, 1404, 1405, 1406, 1407, 1408, 1409, 1410, 1411, 1413, 1414, 1416, 1417, 1418, 1419, 1420, 1421, 1422, 1423, 1424, 1425, 1426, 1428, 1429, 1430, 1431, 1432, 1433, 1434, 1435, 1437, 1439, 1441, 1443, 1445, 1446, 1447, 1448, 1449, 1450, 1454, 1455, 1456, 1457, 1458, 1459, 1460, 1461, 1462, 1464, 1465, 1466, 1468, 1470, 1472, 1473, 1474, 1475, 1476, 1477, 1478, 1479, 1480, 1481, 1482, 1483, 1484, 1485, 1486, 1487, 1488, 1491, 1492, 1493, 1494, 1495, 1497, 1498, 1499, 1500, 1501, 1502, 1503, 1504, 1505, 1506, 1508, 1510, 1511, 1512, 1513, 1516, 1517, 1518, 1519, 1520, 1521, 1522, 1523, 1524, 1525, 1526, 1527, 1529, 1530, 1531, 1532, 1534, 1535, 1536, 1537, 1538, 1539, 1540, 1541, 1542, 1543, 1545, 1546, 1547, 1548, 1549, 1550, 1551, 1552, 1554, 1556, 1557, 1558, 1560, 1562, 1564, 1565, 1568, 1569, 1570, 1571, 1572, 1574, 1575, 1576, 1577, 1578, 1580, 1581, 1583, 1584, 1585, 1586, 1590, 1591, 1593, 1596, 1597, 1598, 1599, 1600, 1603, 1604, 1605, 1606, 1608, 1609, 1610, 1612, 1613, 1615, 1616, 1618, 1619, 1620, 1621, 1622, 1623, 1624, 1625, 1626, 1628, 1629, 1630, 1632, 1636, 1637, 1638, 1639, 1640, 1641, 1642, 1643, 1644, 1645, 1646, 1647, 1648, 1649, 1652, 1654, 1657, 1658, 1659, 1660, 1661, 1662, 1663, 1665, 1667, 1668, 1669, 1670, 1672, 1673, 1674, 1675, 1677, 1678, 1679, 1680, 1682, 1683, 1684, 1685, 1686, 1687, 1689, 1690, 1692, 1693, 1694, 1695, 1697, 1698, 1699, 1701, 1702, 1705, 1706, 1707, 1708, 1710, 1711, 1712, 1714, 1715, 1716, 1717, 1718, 1719, 1720, 1721, 1722, 1725, 1728, 1729, 1730, 1731, 1732, 1733, 1734, 1735, 1736, 1737, 1738, 1739, 1741, 1742, 1744, 1745, 1751, 1752, 1753, 1755, 1756, 1758, 1761, 1763, 1764, 1765, 1766, 1768, 1770, 1771, 1772, 1773, 1774, 1775, 1778, 1779, 1780, 1781, 1782, 1783, 1784, 1787, 1788, 1789, 1790, 1792, 1793, 1794, 1795, 1796, 1797, 1798, 1799, 1801, 1802, 1803, 1804, 1805, 1806, 1807, 1808, 1809, 1810, 1812, 1813, 1814, 1815, 1816, 1819, 1820, 1822, 1823, 1824, 1825, 1826, 1827, 1828, 1829, 1830, 1831, 1833, 1835, 1836, 1838, 1839, 1840, 1841, 1842, 1843, 1845, 1846, 1847, 1848, 1849, 1851, 1852, 1853, 1854, 1856, 1858, 1859, 1862, 1863, 1865, 1866, 1867, 1868, 1869, 1870, 1871, 1873, 1876, 1877, 1878, 1880, 1881, 1883, 1884, 1886, 1887, 1888, 1891, 1892, 1893, 1895, 1896, 1897, 1898, 1899, 1902, 1903, 1905, 1906, 1907, 1908, 1910, 1911, 1912, 1913, 1914, 1916, 1917, 1918, 1919, 1920, 1924, 1925, 1926, 1928, 1929, 1931, 1932, 1933, 1934, 1935, 1936, 1937, 1938, 1939, 1940, 1942, 1946, 1947, 1948, 1949, 1951, 1952, 1953, 1955, 1956, 1957, 1959, 1962, 1963, 1964, 1965, 1966, 1967, 1969, 1970, 1971, 1973, 1974, 1975, 1976, 1980, 1981, 1983, 1986, 1988, 1991, 1992, 1993, 1994, 1995, 1996, 1997, 2004, 2005, 2006, 2007, 2011, 2019, 2023, 2029, 2031, 2032, 2045, 2049, 2050, 2051, 2055, 2057, 2059, 2064, 2067, 2071, 2074, 2076, 2079, 2080, 2085, 2086, 2090, 2093, 2095, 2096, 2097, 2098, 2099, 2103, 2107, 2108, 2109, 2110, 2111, 2116, 2119, 2127, 2129, 2133, 2137, 2138, 2139, 2142, 2145, 2148, 2152, 2153, 2156, 2158, 2160, 2162, 2164, 2165, 2170, 2171, 2173, 2174, 2177, 2183, 2186, 2188, 2189, 2195, 2202, 2203, 2204, 2208, 2209, 2213, 2216, 2217, 2218, 2230, 2236, 2239, 2242, 2245, 2247, 2249, 2251, 2252, 2253, 2254, 2258, 2261, 2269, 2270, 2274, 2278, 2280, 2283, 2285, 2286, 2290, 2291, 2292, 2299, 2305, 2307, 2309, 2315, 2325, 2326, 2330, 2338, 2339, 2347, 2348, 2349, 2351, 2353, 2358, 2361, 2364, 2365, 2366, 2377, 2378, 2387, 2390, 2396, 2401, 2406, 2413, 2417, 2421, 2423, 2426, 2427, 2442, 2444, 2445, 2447, 2451, 2453, 2455, 2457, 2459, 2461, 2462, 2472, 2478, 2482, 2483, 2486, 2489, 2490, 2492, 2493, 2494, 2498, 2501, 2513, 2515, 2519, 2522, 2527, 2531, 2532, 2545, 2546, 2556, 2557, 2561, 2565, 2567, 2568, 2569, 2571, 2572, 2573, 2574, 2577, 2578, 2580, 2584, 2586, 2587, 2588, 2591, 2594, 2596, 2597, 2598, 2602, 2607, 2608, 2612, 2614, 2618, 2619, 2620, 2624, 2626, 2632, 2635, 2638, 2641, 2645, 2650, 2652, 2655, 2659, 2669, 2670, 2673, 2677, 2678, 2679, 2686, 2688, 2689, 2692, 2693, 2696, 2700, 2701, 2702, 2710, 2712, 2714, 2718, 2720, 2721, 2724, 2725, 2727, 2729, 2738, 2739, 2747, 2748, 2751, 2753, 2756, 2757, 2758, 2763, 2764, 2765, 2767, 2768, 2770, 2774, 2779, 2780, 2781, 2784, 2790, 2795, 2797, 2800, 2801, 2804, 2805, 2813, 2826, 2827, 2828, 2829, 2832, 2836, 2837, 2839, 2842, 2845, 2856, 2857, 2863, 2867, 2876, 2881, 2883, 2884, 2887, 2888, 2896, 2900, 2905, 2914, 2917, 2918, 2920, 2921, 2923, 2927, 2931, 2937, 2939, 2940, 2941, 2945, 2946, 2948, 2953, 2955, 2956, 2958, 2959, 2960, 2962, 2973, 2979, 2981, 2983, 2985, 2987, 2993, 2995, 2996, 5001, 5002, 5007, 5008, 5010, 5011, 5013, 5014, 5016, 5017, 5023, 5024, 5026, 5027, 5028, 5029, 5031, 5032, 5037, 5038, 5039, 5040, 5041, 5044, 5045, 5046, 5048, 5049, 5051, 5052, 5053, 5054, 5055, 5056, 5057, 5069, 5070, 5072, 5073, 5075, 5077, 5078, 5079, 5080, 5081, 5083, 5084, 5085, 5086, 5087, 5088, 5089, 5092, 5093, 5097, 5099, 5100, 5101, 5102, 5109, 5111, 5115, 5118, 5119, 5122, 5125, 5127, 5128, 5129, 5131, 5135, 5136, 5140, 5141, 5144, 5145, 5146, 5147, 5148, 5150, 5153, 5154, 5155, 5160, 5164, 5166, 5169, 5170, 5172, 5175, 5176, 5177, 5185, 5187, 5188, 5189, 5190, 5192, 5194, 5195, 5197, 5198, 5202, 5205, 5206, 5208, 5209, 5210, 5211, 5212, 5215, 5216, 5220, 5225, 5226, 5228, 5230, 5231, 5233, 5237, 5239, 5240, 5242, 5244, 5246, 5248, 5251, 5252, 5255, 5261, 5263, 5264, 5266, 5267, 5268, 5270, 5272, 5273, 5275, 5276, 5277, 5278, 5283, 5284, 5285, 5288, 5291, 5292, 5293, 5296, 5298, 5299, 5301, 5302, 5309, 5310, 5312, 5313, 5314, 5317, 5324, 5325, 5327, 5328, 5330, 5331, 5335, 5336, 5338, 5340, 5341, 5342, 5343, 5344, 5346, 5347, 5348, 5349, 5351, 5352, 5353, 5356, 5357, 5360, 5361, 5363, 5367, 5368, 5371, 5372, 5374, 5375, 5379, 5380, 5381, 5382, 5387, 5389, 5390, 5395, 5397, 5398, 5399, 5400, 5403, 5404, 5405, 5406, 5409, 5410, 5411, 5412, 5413, 5415, 5418, 5421, 5422, 5426, 5427, 5432, 5433, 5437, 5438, 5439, 5442, 5443, 5445, 5446, 5448, 5449, 5456, 5460, 5462, 5467, 5470, 5471, 5475, 5476, 5478, 5480, 5484, 5486, 5487, 5488, 5489, 5491, 5493, 5494, 5498, 5499, 5500, 5502, 5506, 5509, 5511, 5512, 5513, 5517, 5518, 5521, 5522, 5526, 5527, 5529, 5530, 5539, 5542, 5543, 5544, 5545, 5546, 5547, 5548, 5550, 5551, 5553, 5554, 5558, 5559, 5560, 5562, 5563, 5564, 5565, 5569, 5570, 5571, 5573, 5575, 5576, 5577, 5579, 5580, 5581, 5585, 5586, 5587, 5588, 5589, 5593, 5594, 5597, 5601, 5603, 5604, 5605, 5606, 5607, 5608, 5611, 5612, 5613, 5614, 5615, 5616, 5617, 5618, 5619, 5620, 5622, 5624, 5627, 5629, 5630, 5631, 5632, 5633, 5634, 5639, 5640, 5641, 5642, 5643, 5644, 5645, 5646, 5647, 5648, 5650, 5656, 5657, 5663, 5664, 5667, 5668, 5670, 5672, 5673, 5674, 5675, 5681, 5682, 5688, 5689, 5691, 5693, 5695, 5698, 5699, 5703, 5706, 5707, 5708, 5709, 5713, 5716, 5717, 5719, 5720, 5722, 5724, 5725, 5726, 5727, 5731, 5732, 5733, 5734, 5735, 5736, 5738, 5739, 5741, 5742, 5743, 5744, 5747, 5748, 5749, 5751, 5757, 5759, 5760, 5761, 5762, 5765, 5766, 5768, 5769, 5770, 5772, 5773, 5774, 5776, 5778, 5781, 5782, 5783, 5784, 5785, 5786, 5788, 5791, 5792, 5796, 5797, 5799, 5800, 5804, 5805, 5807, 5811, 5814, 5815, 5816, 5817, 5819, 5823, 5826, 5828, 5829, 5830, 5831, 5832, 5836, 5839, 5842, 5844, 5845, 5846, 5848, 5849, 5850, 5854, 5857, 5858, 5861, 5863, 5864, 5868, 5869, 5870, 5872, 5874, 5876, 5878, 5881, 5885, 5888, 5894, 5895, 5897, 5898, 5899, 5900, 5901, 5902, 5904, 5905, 5906, 5918, 5920, 5921, 5923, 5924, 5925, 5926, 5928, 5930, 5936, 5939, 5941, 5944, 5945, 5946, 5948, 5950, 5952, 5954, 5955, 5957, 5959, 5960, 5961, 5962, 5963, 5964, 5965, 5968, 5972, 5973, 5977, 5978, 5982, 5983, 5985, 5986, 5988, 5989, 5990, 5991, 5992, 5993, 5994, 5995, 5997, 15004, 15023, 15025, 15026, 15028, 15031, 15046, 15047, 15054, 15055, 15058, 15060, 15062, 15073, 15087, 15093, 15094, 15095, 15096, 15102, 15105, 15106, 15107, 15110, 15113, 15116, 15123, 15128, 15129, 15135, 15139, 15143, 15144, 15145, 15153, 15156, 15162, 15164, 15177, 15181, 15189, 15190, 15205, 15207, 15208, 15211, 15217, 15220, 15222, 15224, 15229, 15231, 15233, 15235, 15237, 15243, 15246, 15248, 15257, 15263, 15265, 15266, 15268, 15269, 15274, 15277, 15292, 15294, 15299, 15307, 15309, 15313, 15314, 15334, 15343, 15349, 15350, 15351, 15356, 15364, 15368, 15376, 15378, 15389, 15390, 15391, 15394, 15398, 15402, 15408, 15416, 15421, 15428, 15430, 15433, 15445, 15448, 15449, 15457, 15459, 15461, 15463, 15467, 15478, 15483, 15486, 15492, 15497, 15498, 15500, 15508, 15510, 15512, 15519, 15522, 15523, 15524, 15525, 15528, 15529, 15531, 15534, 15535, 15537, 15547, 15548, 15551, 15553, 15559, 15563, 15571, 15574, 15577, 15578, 15580, 15586, 15591, 15596, 15600, 15604, 15606, 15608, 15610, 15615, 15618, 15628, 15629, 15631, 15632, 15633, 15637, 15638, 15640, 15643, 15648, 15650, 15651, 15664, 15667, 15668, 15669, 15681, 15684, 15688, 15691, 15692, 15694, 15704, 15705, 15706, 15708, 15710, 15714, 15717, 15721, 15728, 15733, 15735, 15741, 15742, 15744, 15747, 15748, 15755, 15759, 15766, 15769, 15773, 15776, 15781, 15782, 15792, 15795, 15796, 15808, 15811, 15814, 15823, 15825, 15826, 15827, 15828, 15829, 15834, 15851, 15857, 15861, 15863, 15866, 15867, 15869, 15871, 15872, 15883, 15886, 15895, 15899, 15901, 15906, 15909, 15910, 15911, 15919, 15938, 15947, 15948, 15953, 15967, 15969, 15973, 15974, 15976, 15977, 15994, 15996, 15997, 15999, 18097, 18306, 18324, 18333, 18797, 18923, 21184, 21188, 21246, 21387, 21415, 21417, 21539, 21551, 21566, 21594, 21608, 21709, 21815, 21841, 21956, 21990, 27003, 27005, 27006, 27008, 27009, 27015, 27024, 27025, 27026, 27027, 27031, 27032, 27036, 27044, 27048, 27049, 27050, 27051, 27053, 27054, 27056, 27059, 27063, 27077, 27083, 27085, 27087, 27088, 27093, 27096, 27100, 27105, 27110, 27115, 27131, 27133, 27135, 27137, 27140, 27144, 27148, 27150, 27152, 27168, 27176, 27178, 27183, 27184, 27185, 27187, 27188, 27199, 27201, 27203, 27210, 27215, 27218, 27219, 27220, 27223, 27224, 27230, 27232, 27234, 27238, 27239, 27240, 27248, 27250, 27253, 27256, 27260, 27263, 27264, 27270, 27272, 27275, 27281, 27290, 27292, 27294, 27297, 27303, 27318, 27320, 27328, 27329, 27330, 27335, 27338, 27341, 27342, 27343, 27353, 27354, 27361, 27374, 27375, 27381, 27387, 27391, 27393, 27395, 27398, 27402, 27410, 27412, 27416, 27422, 27433, 27437, 27441, 27448, 27449, 27455, 27459, 27468, 27472, 27474, 27477, 27478, 27482, 27483, 27488, 27491, 27504, 27505, 27511, 27518, 27521, 27522, 27523, 27526, 27530, 27534, 27535, 27550, 27556, 27559, 27570, 27572, 27578, 27579, 27584, 27597, 27598, 27600, 27607, 27608, 27610, 27618, 27620, 27623, 27624, 27627, 27628, 27631, 27640, 27651, 27658, 27668, 27672, 27680, 27685, 27691, 27710, 27712, 27725, 27727, 27735, 27738, 27744, 27745, 27746, 27748, 27751, 27753, 27760, 27766, 27771, 27772, 27774, 27775, 27779, 27780, 27785, 27792, 27796, 27799, 27800, 27810, 27811, 27815, 27816, 27828, 27834, 27841, 27853, 27854, 27857, 27858, 27864, 27867, 27871, 27883, 27899, 27900, 27902, 27904, 27906, 27912, 27917, 27918, 27919, 27932, 27939, 27944, 27946, 27949, 27960, 27961, 27963, 27966, 27968, 27970, 27986, 27989, 27993, 28002, 28008, 28009, 28011, 28017, 28020, 28028, 28030, 28035, 28038, 28040, 28043, 28046, 28049, 28051, 28054, 28060, 28067, 28071, 28094, 28096, 28097, 28099, 28105, 28108, 28109, 28115, 28116, 28117, 28119, 28120, 28123, 28137, 28142, 28143, 28156, 28159, 28163, 28167, 28168, 28171, 28172, 28177, 28179, 28185, 28189, 28190, 28192, 28196, 28208, 28209, 28211, 28213, 28215, 28216, 28220, 28222, 28228, 28233, 28235, 28237, 28239, 28251, 28255, 28261, 28262, 28263, 28264, 28271, 28276, 28277, 28279, 28282, 28283, 28299, 28300, 28301, 28326, 28329, 28335, 28340, 28347, 28351, 28352, 28353, 28355, 28360, 28362, 28364, 28366, 28371, 28372, 28377, 28379, 28382, 28383, 28385, 28395, 28398, 28409, 28411, 28421, 28422, 28437, 28438, 28445, 28452, 28457, 28461, 28464, 28471, 28479, 28480, 28498, 28506, 28511, 28518, 28522, 28533, 28536, 28540, 28541, 28542, 28544, 28548, 28550, 28552, 28560, 28561, 28566, 28567, 28569, 28582, 28589, 28599, 28604, 28605, 28610, 28619, 28621, 28622, 28623, 28624, 28627, 28628, 28629, 28634, 28635, 28648, 28650, 28656, 28665, 28666, 28679, 28680, 28683, 28690, 28696, 28697, 28699, 28703, 28708, 28714, 28716, 28717, 28719, 28724, 28729, 28733, 28737, 28740, 28746, 28751, 28763, 28765, 28766, 28769, 28778, 28779, 28781, 28785, 28789, 28794, 28797, 28807, 28812, 28814, 28823, 28836, 28839, 28841, 28842, 28843, 28848, 28856, 28861, 28874, 28877, 28886, 28889, 28891, 28892, 28893, 28899, 28901, 28902, 28906, 28909, 28911, 28918, 28919, 28927, 28930, 28935, 28936, 28944, 28945, 28948, 28949, 28950, 28955, 28957, 28959, 28960, 28965, 28989, 28993, 28996, 28997, 30008, 30015, 30022, 30030, 30080, 30102, 30136, 30158, 30166, 30187, 30212, 30218, 30264, 30270, 30277, 30321, 30382, 30464, 30501, 30632, 30684, 30828, 30865, 30950, 32003, 32006, 32012, 32021, 32025, 32027, 32029, 32031, 32032, 32034, 32036, 32041, 32051, 32054, 32057, 32067, 32068, 32071, 32077, 32083, 32087, 32089, 32094, 32096, 32102, 32112, 32113, 32118, 32119, 32120, 32121, 32126, 32127, 32130, 32132, 32140, 32147, 32151, 32155, 32176, 32184, 32185, 32193, 32194, 32195, 32200, 32202, 32203, 32212, 32225, 32227, 32228, 32231, 32234, 32236, 32244, 32250, 32257, 32263, 32267, 32268, 32269, 32283, 32284, 32289, 32292, 32301, 32304, 32305, 32307, 32316, 32317, 32327, 32330, 32332, 32336, 32339, 32344, 32346, 32360, 32361, 32368, 32369, 32380, 32387, 32392, 32394, 32395, 32398, 32401, 32421, 32422, 32423, 32431, 32463, 32471, 32475, 32480, 32489, 32497, 32498, 32502, 32503, 32506, 32513, 32517, 32518, 32529, 32533, 32534, 32536, 32537, 32541, 32546, 32559, 32560, 32562, 32566, 32572, 32574, 32576, 32587, 32592, 32596, 32599, 32605, 32606, 32607, 32610, 32613, 32617, 32618, 32619, 32620, 32621, 32622, 32634, 32635, 32642, 32647, 32650, 32657, 32658, 32662, 32667, 32679, 32684, 32693, 32699, 32703, 32705, 32707, 32709, 32710, 32721, 32722, 32739, 32742, 32743, 32744, 32745, 32746, 32756, 32766, 32767, 32768, 32771, 32774, 32778, 32784, 32785, 32788, 32792, 32802, 32807, 32813, 32816, 32817, 32823, 32824, 32827, 32828, 32832, 32839, 32842, 32844, 32850, 32853, 32856, 32857, 32862, 32867, 32868, 32876, 32879, 32880, 32885, 32906, 32908, 32911, 32913, 32916, 32918, 32919, 32925, 32931, 32932, 32951, 32952, 32962, 32963, 32964, 32967, 32989, 32991, 32992, 32995, 35000, 35001, 35002, 35004, 35005, 35007, 35008, 35010, 35011, 35013, 35016, 35017, 35018, 35019, 35020, 35021, 35023, 35024, 35026, 35027, 35028, 35029, 35030, 35031, 35032, 35033, 35034, 35035, 35036, 35038, 35039, 35041, 35043, 35044, 35047, 35048, 35049, 35050, 35051, 35052, 35053, 35054, 35055, 35056, 35057, 35058, 35059, 35060, 35062, 35065, 35067, 35068, 35070, 35072, 35073, 35075, 35076, 35077, 35078, 35079, 35081, 35082, 35083, 35084, 35085, 35086, 35087, 35088, 35089, 35090, 35091, 35092, 35093, 35095, 35096, 35097, 35098, 35099, 35100, 35101, 35102, 35103, 35104, 35106, 35107, 35109, 35112, 35113, 35114, 35116, 35117, 35118, 35119, 35120, 35121, 35122, 35123, 35124, 35125, 35126, 35127, 35129, 35133, 35134, 35135, 35136, 35137, 35138, 35139, 35140, 35141, 35142, 35143, 35145, 35147, 35148, 35149, 35150, 35151, 35152, 35153, 35155, 35156, 35159, 35161, 35162, 35163, 35166, 35168, 35169, 35170, 35171, 35172, 35173, 35176, 35177, 35178, 35179, 35180, 35181, 35182, 35184, 35185, 35186, 35187, 35188, 35189, 35190, 35191, 35194, 35195, 35196, 35197, 35199, 35200, 35201, 35203, 35207, 35208, 35211, 35213, 35214, 35216, 35217, 35218, 35219, 35220, 35221, 35223, 35224, 35225, 35226, 35227, 35228, 35229, 35230, 35232, 35233, 35236, 35241, 35243, 35244, 35246, 35248, 35250, 35251, 35252, 35253, 35254, 35255, 35256, 35257, 35259, 35260, 35261, 35263, 35264, 35265, 35266, 35267, 35268, 35269, 35270, 35271, 35272, 35273, 35274, 35275, 35276, 35277, 35278, 35279, 35280, 35281, 35284, 35285, 35286, 35287, 35288, 35291, 35292, 35294, 35295, 35296, 35298, 35299, 35300, 35301, 35303, 35305, 35306, 35307, 35308, 35310, 35312, 35313, 35314, 35315, 35316, 35317, 35319, 35320, 35321, 35322, 35323, 35324, 35325, 35326, 35327, 35329, 35331, 35333, 35334, 35335, 35338, 35339, 35340, 35341, 35342, 35343, 35344, 35345, 35346, 35349, 35351, 35352, 35354, 35355, 35356, 35357, 35358, 35359, 35361, 35362, 35363, 35366, 35367, 35368, 35369, 35371, 35372, 35373, 35374, 35375, 35376, 35377, 35379, 35380, 35381, 35382, 35385, 35386, 35387, 35388, 35389, 35392, 35393, 35394, 35395, 35396, 35397, 35398, 35399, 35400, 35401, 35403, 35404, 35405, 35406, 35407, 35408, 35409, 35410, 35411, 35412, 35414, 35417, 35418, 35419, 35420, 35421, 35423, 35425, 35426, 35427, 35428, 35429, 35430, 35431, 35432, 35433, 35434, 35435, 35436, 35437, 35438, 35439, 35440, 35442, 35444, 35445, 35448, 35449, 35451, 35452, 35453, 35454, 35455, 35456, 35457, 35458, 35460, 35461, 35462, 35463, 35464, 35465, 35466, 35467, 35468, 35470, 35471, 35472, 35473, 35474, 35475, 35476, 35477, 35478, 35480, 35481, 35482, 35483, 35484, 35485, 35486, 35487, 35488, 35489, 35490, 35491, 35493, 35495, 35496, 35498, 35500, 35503, 35504, 35506, 35507, 35508, 35509, 35510, 35511, 35512, 35513, 35514, 35516, 35517, 35518, 35519, 35521, 35522, 35523, 35526, 35527, 35528, 35529, 35530, 35532, 35533, 35534, 35535, 35536, 35537, 35540, 35542, 35543, 35544, 35547, 35548, 35550, 35552, 35553, 35554, 35555, 35556, 35557, 35558, 35559, 35560, 35561, 35562, 35563, 35564, 35566, 35568, 35569, 35570, 35571, 35572, 35573, 35574, 35577, 35579, 35580, 35581, 35582, 35583, 35584, 35586, 35587, 35589, 35590, 35591, 35592, 35594, 35597, 35599, 35601, 35603, 35604, 35606, 35607, 35608, 35609, 35610, 35611, 35612, 35614, 35615, 35616, 35617, 35618, 35620, 35621, 35623, 35624, 35625, 35626, 35627, 35629, 35630, 35631, 35632, 35633, 35634, 35635, 35637, 35638, 35640, 35641, 35642, 35644, 35646, 35647, 35648, 35652, 35653, 35654, 35656, 35657, 35658, 35659, 35660, 35661, 35662, 35663, 35664, 35666, 35667, 35670, 35671, 35672, 35673, 35674, 35675, 35676, 35677, 35678, 35679, 35682, 35683, 35684, 35685, 35686, 35687, 35688, 35689, 35690, 35691, 35692, 35693, 35694, 35696, 35698, 35699, 35700, 35701, 35702, 35705, 35707, 35708, 35709, 35712, 35713, 35714, 35715, 35716, 35717, 35718, 35719, 35720, 35721, 35723, 35724, 35725, 35726, 35727, 35728, 35729, 35731, 35732, 35734, 35736, 35737, 35741, 35742, 35743, 35744, 35745, 35746, 35750, 35751, 35753, 35754, 35756, 35759, 35763, 35764, 35765, 35766, 35767, 35768, 35770, 35771, 35772, 35775, 35776, 35777, 35779, 35780, 35781, 35783, 35785, 35788, 35789, 35790, 35792, 35793, 35795, 35796, 35797, 35798, 35799, 35800, 35801, 35802, 35803, 35805, 35806, 35807, 35808, 35810, 35811, 35812, 35813, 35814, 35815, 35816, 35818, 35821, 35822, 35823, 35824, 35825, 35826, 35827, 35828, 35830, 35833, 35835, 35836, 35837, 35838, 35839, 35840, 35841, 35843, 35844, 35846, 35847, 35848, 35849, 35852, 35853, 35854, 35856, 35858, 35860, 35862, 35863, 35864, 35866, 35867, 35868, 35869, 35871, 35873, 35874, 35875, 35876, 35877, 35878, 35880, 35882, 35883, 35884, 35885, 35886, 35887, 35889, 35891, 35892, 35893, 35894, 35895, 35896, 35897, 35898, 35899, 35900, 35902, 35903, 35904, 35906, 35907, 35908, 35909, 35910, 35911, 35913, 35914, 35915, 35918, 35920, 35921, 35922, 35924, 35927, 35928, 35929, 35930, 35931, 35933, 35934, 35935, 35936, 35937, 35939, 35940, 35942, 35944, 35945, 35946, 35947, 35949, 35951, 35952, 35953, 35954, 35955, 35957, 35958, 35959, 35961, 35962, 35963, 35964, 35965, 35966, 35968, 35969, 35970, 35972, 35973, 35974, 35975, 35976, 35977, 35979, 35980, 35981, 35984, 35985, 35986, 35987, 35988, 35989, 35990, 35991, 35992, 35993, 35994, 35998, 35999, 40078, 40134, 40485, 40501, 41000, 41008, 41012, 41014, 41016, 41017, 41021, 41025, 41027, 41032, 41044, 41045, 41051, 41052, 41053, 41055, 41064, 41066, 41069, 41076, 41083, 41084, 41092, 41103, 41105, 41109, 41111, 41113, 41114, 41118, 41121, 41125, 41129, 41134, 41139, 41146, 41147, 41150, 41157, 41166, 41167, 41168, 41170, 41175, 41177, 41184, 41189, 41190, 41192, 41196, 41197, 41201, 41208, 41214, 41223, 41234, 41235, 41236, 41237, 41241, 41247, 41251, 41252, 41259, 41261, 41271, 41273, 41274, 41278, 41279, 41285, 41287, 41291, 41294, 41295, 41297, 41298, 41304, 41309, 41311, 41314, 41316, 41320, 41322, 41325, 41328, 41331, 41332, 41335, 41344, 41349, 41350, 41354, 41356, 41361, 41363, 41366, 41368, 41369, 41379, 41381, 41390, 41391, 41393, 41401, 41403, 41404, 41411, 41412, 41414, 41416, 41419, 41424, 41427, 41433, 41436, 41443, 41447, 41448, 41459, 41460, 41461, 41463, 41466, 41480, 41481, 41488, 41489, 41497, 41500, 41501, 41513, 41519, 41520, 41522, 41523, 41529, 41530, 41531, 41535, 41537, 41545, 41546, 41552, 41558, 41561, 41564, 41565, 41566, 41569, 41576, 41577, 41584, 41586, 41592, 41594, 41597, 41603, 41610, 41611, 41612, 41619, 41625, 41627, 41628, 41630, 41632, 41634, 41642, 41650, 41652, 41659, 41662, 41663, 41665, 41672, 41675, 41678, 41680, 41682, 41686, 41690, 41702, 41703, 41706, 41708, 41711, 41715, 41717, 41721, 41722, 41727, 41731, 41733, 41739, 41745, 41753, 41754, 41765, 41767, 41782, 41786, 41794, 41800, 41802, 41803, 41804, 41806, 41814, 41824, 41826, 41827, 41828, 41832, 41837, 41841, 41843, 41845, 41847, 41852, 41854, 41858, 41861, 41872, 41876, 41877, 41883, 41887, 41889, 41892, 41895, 41899, 41900, 41904, 41912, 41916, 41922, 41923, 41929, 41932, 41933, 41937, 41938, 41945, 41949, 41951, 41953, 41955, 41960, 41963, 41966, 41974, 41977, 41979, 41981, 41983, 41984, 41986, 41988, 41998, 42087, 44000, 44002, 44004, 44005, 44012, 44014, 44016, 44023, 44026, 44027, 44029, 44030, 44033, 44034, 44035, 44039, 44040, 44041, 44045, 44047, 44050, 44052, 44056, 44057, 44058, 44061, 44062, 44065, 44067, 44070, 44071, 44072, 44077, 44081, 44084, 44086, 44091, 44093, 44094, 44095, 44096, 44098, 44099, 44100, 44101, 44102, 44103, 44104, 44106, 44107, 44108, 44109, 44115, 44116, 44117, 44119, 44120, 44122, 44128, 44130, 44131, 44132, 44138, 44139, 44140, 44142, 44145, 44149, 44150, 44151, 44152, 44156, 44157, 44159, 44162, 44164, 44165, 44169, 44170, 44172, 44174, 44177, 44180, 44184, 44187, 44188, 44189, 44190, 44193, 44195, 44197, 44199, 44202, 44203, 44204, 44206, 44207, 44209, 44211, 44212, 44216, 44218, 44220, 44221, 44223, 44228, 44231, 44233, 44238, 44240, 44244, 44246, 44247, 44250, 44251, 44254, 44255, 44257, 44259, 44261, 44263, 44264, 44266, 44267, 44268, 44269, 44270, 44272, 44274, 44277, 44278, 44279, 44283, 44285, 44286, 44287, 44288, 44291, 44292, 44293, 44294, 44296, 44300, 44303, 44304, 44305, 44306, 44307, 44310, 44311, 44312, 44313, 44314, 44316, 44320, 44322, 44324, 44325, 44326, 44327, 44331, 44335, 44336, 44340, 44341, 44343, 44344, 44346, 44348, 44350, 44351, 44353, 44356, 44357, 44359, 44360, 44361, 44369, 44370, 44371, 44374, 44375, 44377, 44378, 44381, 44383, 44384, 44386, 44392, 44393, 44396, 44397, 44401, 44402, 44404, 44408, 44409, 44411, 44414, 44415, 44416, 44420, 44421, 44423, 44427, 44429, 44430, 44433, 44434, 44437, 44439, 44440, 44442, 44446, 44447, 44448, 44449, 44450, 44452, 44455, 44456, 44459, 44460, 44461, 44462, 44464, 44465, 44467, 44470, 44471, 44472, 44473, 44474, 44475, 44476, 44477, 44478, 44480, 44486, 44491, 44492, 44495, 44496, 44497, 44498, 44500, 44501, 44502, 44503, 44505, 44506, 44507, 44508, 44510, 44511, 44513, 44514, 44516, 44519, 44520, 44521, 44522, 44525, 44528, 44531, 44533, 44538, 44539, 44540, 44542, 44543, 44544, 44545, 44547, 44551, 44554, 44555, 44557, 44558, 44559, 44561, 44562, 44564, 44565, 44566, 44568, 44569, 44570, 44571, 44575, 44577, 44588, 44589, 44591, 44592, 44595, 44599, 44600, 44602, 44603, 44608, 44610, 44617, 44619, 44620, 44625, 44628, 44634, 44635, 44636, 44637, 44640, 44641, 44642, 44645, 44651, 44652, 44656, 44657, 44659, 44662, 44663, 44665, 44668, 44670, 44674, 44677, 44678, 44679, 44680, 44688, 44690, 44691, 44695, 44698, 44699, 44701, 44703, 44705, 44706, 44710, 44712, 44716, 44719, 44723, 44725, 44726, 44728, 44729, 44731, 44732, 44734, 44735, 44736, 44737, 44738, 44739, 44740, 44741, 44742, 44745, 44749, 44750, 44751, 44753, 44754, 44755, 44758, 44760, 44761, 44763, 44764, 44766, 44768, 44769, 44771, 44772, 44773, 44774, 44775, 44777, 44779, 44781, 44782, 44784, 44792, 44798, 44799, 44800, 44801, 44802, 44807, 44808, 44809, 44810, 44813, 44814, 44819, 44827, 44830, 44831, 44834, 44835, 44836, 44837, 44838, 44845, 44846, 44848, 44850, 44853, 44854, 44855, 44862, 44865, 44866, 44867, 44869, 44870, 44873, 44876, 44877, 44878, 44879, 44880, 44881, 44883, 44885, 44886, 44888, 44889, 44895, 44896, 44898, 44901, 44902, 44906, 44907, 44908, 44911, 44914, 44916, 44917, 44918, 44920, 44922, 44923, 44924, 44926, 44930, 44931, 44932, 44935, 44937, 44938, 44940, 44941, 44942, 44946, 44947, 44951, 44955, 44956, 44958, 44964, 44966, 44967, 44968, 44969, 44971, 44972, 44974, 44975, 44976, 44977, 44985, 44988, 44993, 44994, 44997, 44998, 44999]\n"
     ]
    }
   ],
   "source": [
    "# idReturned = []\n",
    "# for doc in playerSum.find():\n",
    "#     h = doc[\"_id\"]\n",
    "#     print(type(h))\n",
    "#     print(playerSum.index(playerSum.isin(h)))\n",
    "count = []\n",
    "for i in range(len(idSample)):\n",
    "    a = playerSum.find({\"steamid\": str(idSample.iloc[i][0])})\n",
    "    if not list(a):\n",
    "        count.append(i)\n",
    "print(count)"
   ]
  },
  {
   "cell_type": "code",
   "execution_count": 95,
   "metadata": {},
   "outputs": [
    {
     "name": "stdout",
     "output_type": "stream",
     "text": [
      "50\n",
      "{535: 245, 589: 755, 58: 315, 609: 516, 521: 237, 104: 6, 90: 16, 558: 228, 477: 229, 68: 24, 456: 217, 579: 756, 95: 4, 475: 260, 183: 1, 606: 482}\n",
      "16\n"
     ]
    }
   ],
   "source": [
    "bucketInval = [ int( i / 1000) for i in count]\n",
    "print(len(set(bucketSample.iloc[:][0])))\n",
    "bucketDict = {bucketSample.iloc[row][0]: 0 for row in bucketInval}\n",
    "for i in range(len(bucketInval)):\n",
    "    bucketDict[bucketSample.iloc[bucketInval[i]][0]] +=1\n",
    "print(bucketDict)\n",
    "print(len(bucketDict))"
   ]
  },
  {
   "cell_type": "code",
   "execution_count": null,
   "metadata": {
    "collapsed": true
   },
   "outputs": [],
   "source": []
  }
 ],
 "metadata": {
  "kernelspec": {
   "display_name": "Python [conda env:py3]",
   "language": "python",
   "name": "conda-env-py3-py"
  },
  "language_info": {
   "codemirror_mode": {
    "name": "ipython",
    "version": 3
   },
   "file_extension": ".py",
   "mimetype": "text/x-python",
   "name": "python",
   "nbconvert_exporter": "python",
   "pygments_lexer": "ipython3",
   "version": "3.6.2"
  }
 },
 "nbformat": 4,
 "nbformat_minor": 2
}
