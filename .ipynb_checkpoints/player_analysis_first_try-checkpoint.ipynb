{
 "cells": [
  {
   "cell_type": "markdown",
   "metadata": {},
   "source": [
    "# Data Exploration:)"
   ]
  },
  {
   "cell_type": "markdown",
   "metadata": {},
   "source": [
    "import steam.GetPlayerSummaries.json file and steam.GetOwnedGames.json"
   ]
  },
  {
   "cell_type": "code",
   "execution_count": 55,
   "metadata": {},
   "outputs": [
    {
     "data": {
      "text/plain": [
       "['playerSum', 'ownedGames']"
      ]
     },
     "execution_count": 55,
     "metadata": {},
     "output_type": "execute_result"
    }
   ],
   "source": [
    "import json\n",
    "import pprint\n",
    "from pymongo import MongoClient\n",
    "client = MongoClient()\n",
    "db = client.DS504\n",
    "db.collection_names(include_system_collections=False)"
   ]
  },
  {
   "cell_type": "code",
   "execution_count": 80,
   "metadata": {},
   "outputs": [],
   "source": [
    "playerSum = db.playerSum\n",
    "ownedGames = db.ownedGames\n",
    "playerTotal = 45709\n",
    "gamesTotal = 35670"
   ]
  },
  {
   "cell_type": "markdown",
   "metadata": {},
   "source": [
    "## The propotion of private (or friend view only) users and public users in PlayerSummaries. \n",
    "\n",
    "\"communityvisibilitystate\": 3    --public"
   ]
  },
  {
   "cell_type": "code",
   "execution_count": 113,
   "metadata": {},
   "outputs": [],
   "source": [
    "a = playerSum.aggregate([{\"$group\": {\"_id\": \"$communityvisibilitystate\", \"count\":{\"$sum\":1}}}], useCursor=False)"
   ]
  },
  {
   "cell_type": "code",
   "execution_count": 114,
   "metadata": {},
   "outputs": [
    {
     "data": {
      "text/plain": [
       "[{'_id': 2, 'count': 808},\n",
       " {'_id': 1, 'count': 620},\n",
       " {'_id': 3, 'count': 44281}]"
      ]
     },
     "execution_count": 114,
     "metadata": {},
     "output_type": "execute_result"
    }
   ],
   "source": [
    "list(a)"
   ]
  },
  {
   "cell_type": "code",
   "execution_count": 118,
   "metadata": {},
   "outputs": [
    {
     "data": {
      "text/plain": [
       "0.9687588877463956"
      ]
     },
     "execution_count": 118,
     "metadata": {},
     "output_type": "execute_result"
    }
   ],
   "source": [
    "44281/playerTotal"
   ]
  },
  {
   "cell_type": "markdown",
   "metadata": {},
   "source": [
    "### 96.9% users are public users."
   ]
  },
  {
   "cell_type": "markdown",
   "metadata": {},
   "source": [
    "## The propotion of private (or friend view only) users and public users in OwnedGames. "
   ]
  },
  {
   "cell_type": "code",
   "execution_count": 119,
   "metadata": {},
   "outputs": [
    {
     "data": {
      "text/plain": [
       "0.7134"
      ]
     },
     "execution_count": 119,
     "metadata": {},
     "output_type": "execute_result"
    }
   ],
   "source": [
    "gamesTotal/50000"
   ]
  },
  {
   "cell_type": "markdown",
   "metadata": {},
   "source": [
    "### 71.3% users public his/her list of owned games"
   ]
  },
  {
   "cell_type": "markdown",
   "metadata": {},
   "source": [
    "## Number of active users (logged in recent half year - Mar 25th 2017)\n",
    "Epoch timestamp: 1490424459\n",
    "Timestamp in milliseconds: 1490424459000\n",
    "Human time (GMT): Saturday, March 25, 2017 6:47:39 AM"
   ]
  },
  {
   "cell_type": "code",
   "execution_count": 162,
   "metadata": {},
   "outputs": [
    {
     "name": "stdout",
     "output_type": "stream",
     "text": [
      "20925\n",
      "0.45778730665733225\n"
     ]
    }
   ],
   "source": [
    "numActiveUsers = playerSum.find({\"lastlogoff\": {\"$gt\": 1490424459}}).count() + playerSum.find({\"lastlogoff\": {\"$exists\": False}, \"personastate\": 0}).count()\n",
    "print(numActiveUsers)\n",
    "print(numActiveUsers/ playerTotal)"
   ]
  },
  {
   "cell_type": "markdown",
   "metadata": {},
   "source": [
    "### the number of active users is 20925, it's 45.8% of total users"
   ]
  },
  {
   "cell_type": "markdown",
   "metadata": {},
   "source": [
    "## Average playtime by appid (game)"
   ]
  },
  {
   "cell_type": "code",
   "execution_count": 232,
   "metadata": {},
   "outputs": [],
   "source": [
    "b = ownedGames.aggregate([{\"$unwind\": \"$response\"}, \n",
    "   #                       {\"$match\":{\"$response.game_count\": {\"gt\": 0}} }, \n",
    "                          {\"$unwind\": \"$response.games\"},\n",
    "                          {\"$group\":{\n",
    "                             \"_id\":{\n",
    "                                 \"appid\": \"$response.games.appid\",\n",
    "                                 \"name\": \"$response.games.name\"\n",
    "                             },\n",
    "                             \"numPlayer\":{\"$sum\": 1},\n",
    "                             \"totalTime\": {\"$sum\": \"$response.games.playtime_forever\"}\n",
    "                          }}\n",
    "                         ])"
   ]
  },
  {
   "cell_type": "code",
   "execution_count": 233,
   "metadata": {},
   "outputs": [
    {
     "data": {
      "text/html": [
       "<div>\n",
       "<style>\n",
       "    .dataframe thead tr:only-child th {\n",
       "        text-align: right;\n",
       "    }\n",
       "\n",
       "    .dataframe thead th {\n",
       "        text-align: left;\n",
       "    }\n",
       "\n",
       "    .dataframe tbody tr th {\n",
       "        vertical-align: top;\n",
       "    }\n",
       "</style>\n",
       "<table border=\"1\" class=\"dataframe\">\n",
       "  <thead>\n",
       "    <tr style=\"text-align: right;\">\n",
       "      <th></th>\n",
       "      <th>appid</th>\n",
       "      <th>name</th>\n",
       "      <th>numPlayer</th>\n",
       "      <th>totalTime</th>\n",
       "    </tr>\n",
       "  </thead>\n",
       "  <tbody>\n",
       "    <tr>\n",
       "      <th>0</th>\n",
       "      <td>263940</td>\n",
       "      <td>Red Baron Pack</td>\n",
       "      <td>1</td>\n",
       "      <td>0</td>\n",
       "    </tr>\n",
       "    <tr>\n",
       "      <th>1</th>\n",
       "      <td>592300</td>\n",
       "      <td>Slowdrive</td>\n",
       "      <td>1</td>\n",
       "      <td>110</td>\n",
       "    </tr>\n",
       "    <tr>\n",
       "      <th>2</th>\n",
       "      <td>551500</td>\n",
       "      <td>Star Fight</td>\n",
       "      <td>1</td>\n",
       "      <td>0</td>\n",
       "    </tr>\n",
       "    <tr>\n",
       "      <th>3</th>\n",
       "      <td>549670</td>\n",
       "      <td>Incursion The Thing</td>\n",
       "      <td>1</td>\n",
       "      <td>277</td>\n",
       "    </tr>\n",
       "    <tr>\n",
       "      <th>4</th>\n",
       "      <td>592780</td>\n",
       "      <td>Bang Bang Car</td>\n",
       "      <td>1</td>\n",
       "      <td>0</td>\n",
       "    </tr>\n",
       "  </tbody>\n",
       "</table>\n",
       "</div>"
      ],
      "text/plain": [
       "    appid                 name  numPlayer  totalTime\n",
       "0  263940       Red Baron Pack          1          0\n",
       "1  592300            Slowdrive          1        110\n",
       "2  551500           Star Fight          1          0\n",
       "3  549670  Incursion The Thing          1        277\n",
       "4  592780        Bang Bang Car          1          0"
      ]
     },
     "execution_count": 233,
     "metadata": {},
     "output_type": "execute_result"
    }
   ],
   "source": [
    "l=[]\n",
    "for line in b:\n",
    "    l.append([line['_id']['appid'], line['_id']['name'], line['numPlayer'], line['totalTime']])\n",
    "import pandas as pd\n",
    "gameData = pd.DataFrame(l, columns=('appid', 'name', 'numPlayer', 'totalTime'))\n",
    "gameData.head()"
   ]
  },
  {
   "cell_type": "code",
   "execution_count": 236,
   "metadata": {},
   "outputs": [
    {
     "data": {
      "text/html": [
       "<div>\n",
       "<style>\n",
       "    .dataframe thead tr:only-child th {\n",
       "        text-align: right;\n",
       "    }\n",
       "\n",
       "    .dataframe thead th {\n",
       "        text-align: left;\n",
       "    }\n",
       "\n",
       "    .dataframe tbody tr th {\n",
       "        vertical-align: top;\n",
       "    }\n",
       "</style>\n",
       "<table border=\"1\" class=\"dataframe\">\n",
       "  <thead>\n",
       "    <tr style=\"text-align: right;\">\n",
       "      <th></th>\n",
       "      <th>appid</th>\n",
       "      <th>name</th>\n",
       "      <th>numPlayer</th>\n",
       "      <th>totalTime</th>\n",
       "      <th>avgTime(h)PerP</th>\n",
       "    </tr>\n",
       "  </thead>\n",
       "  <tbody>\n",
       "    <tr>\n",
       "      <th>0</th>\n",
       "      <td>263940</td>\n",
       "      <td>Red Baron Pack</td>\n",
       "      <td>1</td>\n",
       "      <td>0</td>\n",
       "      <td>0.000000</td>\n",
       "    </tr>\n",
       "    <tr>\n",
       "      <th>1</th>\n",
       "      <td>592300</td>\n",
       "      <td>Slowdrive</td>\n",
       "      <td>1</td>\n",
       "      <td>110</td>\n",
       "      <td>1.833333</td>\n",
       "    </tr>\n",
       "    <tr>\n",
       "      <th>2</th>\n",
       "      <td>551500</td>\n",
       "      <td>Star Fight</td>\n",
       "      <td>1</td>\n",
       "      <td>0</td>\n",
       "      <td>0.000000</td>\n",
       "    </tr>\n",
       "    <tr>\n",
       "      <th>3</th>\n",
       "      <td>549670</td>\n",
       "      <td>Incursion The Thing</td>\n",
       "      <td>1</td>\n",
       "      <td>277</td>\n",
       "      <td>4.616667</td>\n",
       "    </tr>\n",
       "    <tr>\n",
       "      <th>4</th>\n",
       "      <td>592780</td>\n",
       "      <td>Bang Bang Car</td>\n",
       "      <td>1</td>\n",
       "      <td>0</td>\n",
       "      <td>0.000000</td>\n",
       "    </tr>\n",
       "    <tr>\n",
       "      <th>5</th>\n",
       "      <td>428220</td>\n",
       "      <td>TurnOn</td>\n",
       "      <td>1</td>\n",
       "      <td>0</td>\n",
       "      <td>0.000000</td>\n",
       "    </tr>\n",
       "    <tr>\n",
       "      <th>6</th>\n",
       "      <td>692140</td>\n",
       "      <td>Pressure Overdrive - Soundtrack</td>\n",
       "      <td>1</td>\n",
       "      <td>0</td>\n",
       "      <td>0.000000</td>\n",
       "    </tr>\n",
       "    <tr>\n",
       "      <th>7</th>\n",
       "      <td>425240</td>\n",
       "      <td>Pressure Overdrive</td>\n",
       "      <td>1</td>\n",
       "      <td>0</td>\n",
       "      <td>0.000000</td>\n",
       "    </tr>\n",
       "    <tr>\n",
       "      <th>8</th>\n",
       "      <td>534980</td>\n",
       "      <td>Never Forget Me</td>\n",
       "      <td>1</td>\n",
       "      <td>1</td>\n",
       "      <td>0.016667</td>\n",
       "    </tr>\n",
       "    <tr>\n",
       "      <th>9</th>\n",
       "      <td>512180</td>\n",
       "      <td>Nightshade</td>\n",
       "      <td>1</td>\n",
       "      <td>2</td>\n",
       "      <td>0.033333</td>\n",
       "    </tr>\n",
       "  </tbody>\n",
       "</table>\n",
       "</div>"
      ],
      "text/plain": [
       "    appid                             name  numPlayer  totalTime  \\\n",
       "0  263940                   Red Baron Pack          1          0   \n",
       "1  592300                        Slowdrive          1        110   \n",
       "2  551500                       Star Fight          1          0   \n",
       "3  549670              Incursion The Thing          1        277   \n",
       "4  592780                    Bang Bang Car          1          0   \n",
       "5  428220                           TurnOn          1          0   \n",
       "6  692140  Pressure Overdrive - Soundtrack          1          0   \n",
       "7  425240               Pressure Overdrive          1          0   \n",
       "8  534980                  Never Forget Me          1          1   \n",
       "9  512180                       Nightshade          1          2   \n",
       "\n",
       "   avgTime(h)PerP  \n",
       "0        0.000000  \n",
       "1        1.833333  \n",
       "2        0.000000  \n",
       "3        4.616667  \n",
       "4        0.000000  \n",
       "5        0.000000  \n",
       "6        0.000000  \n",
       "7        0.000000  \n",
       "8        0.016667  \n",
       "9        0.033333  "
      ]
     },
     "execution_count": 236,
     "metadata": {},
     "output_type": "execute_result"
    }
   ],
   "source": [
    "gameData['avgTime(h)PerP'] = gameData['totalTime']/gameData['numPlayer']/float(60)\n",
    "gameData.head(10)"
   ]
  },
  {
   "cell_type": "code",
   "execution_count": 255,
   "metadata": {},
   "outputs": [
    {
     "data": {
      "image/png": "[encoded data removed]",
      "text/plain": [
       "<matplotlib.figure.Figure at 0x1da02760a90>"
      ]
     },
     "metadata": {},
     "output_type": "display_data"
    },
    {
     "data": {
      "text/plain": [
       "1295.2666666666667"
      ]
     },
     "execution_count": 255,
     "metadata": {},
     "output_type": "execute_result"
    }
   ],
   "source": [
    "import matplotlib.pyplot as plt\n",
    "avgTime = gameData['avgTime(h)PerP']\n",
    "avgTime.plot.hist(alpha=0.5, bins=1000)\n",
    "plt.show()\n",
    "gameData.loc[gameData['avgTime(h)PerP'].argmax()]"
   ]
  }
 ],
 "metadata": {
  "kernelspec": {
   "display_name": "Python [conda env:py3]",
   "language": "python",
   "name": "conda-env-py3-py"
  },
  "language_info": {
   "codemirror_mode": {
    "name": "ipython",
    "version": 3
   },
   "file_extension": ".py",
   "mimetype": "text/x-python",
   "name": "python",
   "nbconvert_exporter": "python",
   "pygments_lexer": "ipython3",
   "version": "3.6.2"
  }
 },
 "nbformat": 4,
 "nbformat_minor": 2
}
