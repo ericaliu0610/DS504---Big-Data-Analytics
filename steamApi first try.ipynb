{
 "cells": [
  {
   "cell_type": "markdown",
   "metadata": {},
   "source": [
    "# Steam API "
   ]
  },
  {
   "cell_type": "code",
   "execution_count": 161,
   "metadata": {
    "collapsed": true
   },
   "outputs": [],
   "source": [
    "from steam import WebAPI\n",
    "import json\n",
    "import random\n",
    "import datetime\n",
    "from pymongo import MongoClient\n",
    "import time\n",
    "\n",
    "client = MongoClient()\n",
    "db = client.steam\n"
   ]
  },
  {
   "cell_type": "code",
   "execution_count": 106,
   "metadata": {
    "scrolled": true
   },
   "outputs": [
    {
     "name": "stdout",
     "output_type": "stream",
     "text": [
      "width is: 462322 \n"
     ]
    }
   ],
   "source": [
    "#Generating the ID list for sampling\n",
    "\n",
    "#constant\n",
    "init = 76561197960265728\n",
    "end = 76561198422588320\n",
    "\n",
    "#parameter\n",
    "bucket = 1000\n",
    "numOfBuckets = 50\n",
    "numPerBucket = 1000\n",
    "width = (end-init)//bucket\n",
    "print(\"width is: %d \" % width)\n",
    "now = datetime.datetime.now()\n",
    "\n",
    "idsFilename = 'idList_' + now.strftime(\"%Y-%m-%d %H-%M\")\n",
    "bucketsFilename =\"bucketsList_\" + now.strftime(\"%Y-%m-%d %H-%M\")\n",
    "\n",
    "\n",
    "def generate_no_replacement(idfilename,bucketfilename):\n",
    "    bucketFile = open(bucketsFilename,'w')\n",
    "    with open(idfilename,'w')as idFile:\n",
    "        for i in random.sample(range(bucket),numOfBuckets):\n",
    "            bucketFile.write(str(i) + '\\n')\n",
    "            rand = random.sample(range(width),numPerBucket)\n",
    "            ids = [init+i*width+j for j in rand]\n",
    "            for n in ids:\n",
    "                idFile.write(str(n)+'\\n')\n",
    "    idFile.close()\n",
    "    bucketFile.close()\n",
    "\n",
    "def generate_replacement(idfilename,bucketfilename):\n",
    "    bucketFile = open(bucketsFilename,'w')\n",
    "    with open(idfilename,'w')as idFile:\n",
    "        for i in range(numOfBuckets):\n",
    "            k = random.choice(range(bucket))\n",
    "            bucketFile.write(str(k) + '\\n')\n",
    "            for j in range(numPerBucket):\n",
    "                n = init+k*width+random.choice(range(width))\n",
    "                idFile.write(str(n)+'\\n')\n",
    "    idFile.close()\n",
    "    bucketFile.close()\n"
   ]
  },
  {
   "cell_type": "code",
   "execution_count": 107,
   "metadata": {},
   "outputs": [],
   "source": [
    "#generate_no_replacement(filename, bucketsFilename)\n",
    "generate_replacement(idsFilename, bucketsFilename)"
   ]
  },
  {
   "cell_type": "code",
   "execution_count": 54,
   "metadata": {
    "collapsed": true
   },
   "outputs": [],
   "source": [
    "key=\"F586721EBB57C09738BFA05583825173\"\n",
    "api = WebAPI(key=key)"
   ]
  },
  {
   "cell_type": "markdown",
   "metadata": {},
   "source": [
    "ISteamUser\n",
    "\n",
    "GetPlayerSummaries\n",
    "\n",
    "steamids=76561198110726588,76561198422588320\n",
    "\n",
    "steamids\n",
    "Comma-delimited list of 64 bit Steam IDs to return profile information for. Up to 100 Steam IDs can be requested.\n",
    "\n",
    "communityvisibilitystate : \n",
    "This represents whether the profile is visible or not, and if it is visible, why you are allowed to see it. Note that because this WebAPI does not use authentication, there are only two possible values returned: 1 - the profile is not visible to you (Private, Friends Only, etc), 3 - the profile is \"Public\", and the data is visible.\n"
   ]
  },
  {
   "cell_type": "markdown",
   "metadata": {},
   "source": [
    "** Get player summary - test **"
   ]
  },
  {
   "cell_type": "code",
   "execution_count": 160,
   "metadata": {},
   "outputs": [
    {
     "name": "stdout",
     "output_type": "stream",
     "text": [
      "{\n",
      "  \"response\": {\n",
      "    \"players\": []\n",
      "  }\n",
      "}\n"
     ]
    }
   ],
   "source": [
    "response = api.ISteamUser.GetPlayerSummaries(steamids=\"76561198207709726\")\n",
    "print(json.dumps(response, indent=2))"
   ]
  },
  {
   "cell_type": "code",
   "execution_count": 102,
   "metadata": {},
   "outputs": [
    {
     "name": "stdout",
     "output_type": "stream",
     "text": [
      "[\n",
      "  {\n",
      "    \"steamid\": \"76561198110626464\",\n",
      "    \"communityvisibilitystate\": 2,\n",
      "    \"profilestate\": 1,\n",
      "    \"personaname\": \"Jahah\",\n",
      "    \"lastlogoff\": 1489929966,\n",
      "    \"profileurl\": \"http://steamcommunity.com/id/jaharay/\",\n",
      "    \"avatar\": \"https://steamcdn-a.akamaihd.net/steamcommunity/public/images/avatars/d4/d4cabbe77e72e9f7204ae33535e4264d746a50f8.jpg\",\n",
      "    \"avatarmedium\": \"https://steamcdn-a.akamaihd.net/steamcommunity/public/images/avatars/d4/d4cabbe77e72e9f7204ae33535e4264d746a50f8_medium.jpg\",\n",
      "    \"avatarfull\": \"https://steamcdn-a.akamaihd.net/steamcommunity/public/images/avatars/d4/d4cabbe77e72e9f7204ae33535e4264d746a50f8_full.jpg\",\n",
      "    \"personastate\": 0\n",
      "  },\n",
      "  {\n",
      "    \"steamid\": \"76561198110626467\",\n",
      "    \"communityvisibilitystate\": 3,\n",
      "    \"personaname\": \"maks-ivanov-2002\",\n",
      "    \"profileurl\": \"http://steamcommunity.com/profiles/76561198110626467/\",\n",
      "    \"avatar\": \"https://steamcdn-a.akamaihd.net/steamcommunity/public/images/avatars/fe/fef49e7fa7e1997310d705b2a6158ff8dc1cdfeb.jpg\",\n",
      "    \"avatarmedium\": \"https://steamcdn-a.akamaihd.net/steamcommunity/public/images/avatars/fe/fef49e7fa7e1997310d705b2a6158ff8dc1cdfeb_medium.jpg\",\n",
      "    \"avatarfull\": \"https://steamcdn-a.akamaihd.net/steamcommunity/public/images/avatars/fe/fef49e7fa7e1997310d705b2a6158ff8dc1cdfeb_full.jpg\",\n",
      "    \"personastate\": 0,\n",
      "    \"primaryclanid\": \"103582791429521408\",\n",
      "    \"timecreated\": 1381570984,\n",
      "    \"personastateflags\": 0\n",
      "  }\n",
      "]\n"
     ]
    }
   ],
   "source": [
    "response = api.ISteamUser.GetPlayerSummaries(steamids=\"76561198110626464,76561198110626467\")\n",
    "print(json.dumps(response['response']['players'], indent=2))"
   ]
  },
  {
   "cell_type": "code",
   "execution_count": 103,
   "metadata": {},
   "outputs": [],
   "source": [
    "result = db.GetPlayerSummaries.insert_many(response['response']['players'])"
   ]
  },
  {
   "cell_type": "markdown",
   "metadata": {},
   "source": [
    "76561198110626464 \n",
    "\n",
    "communityvisibilitystate\": 2 ( 3 is public, 1 is private)\n",
    "\n",
    "list of games is empty! \n",
    "\n",
    "we still able to see name and lastlogoff."
   ]
  },
  {
   "cell_type": "markdown",
   "metadata": {},
   "source": [
    "** get list of games ** "
   ]
  },
  {
   "cell_type": "code",
   "execution_count": 195,
   "metadata": {},
   "outputs": [
    {
     "data": {
      "text/plain": [
       "{'2': 'kk',\n",
       " 'response': {'game_count': 10,\n",
       "  'games': [{'appid': 10,\n",
       "    'has_community_visible_stats': True,\n",
       "    'img_icon_url': '6b0312cda02f5f777efa2f3318c307ff9acafbb5',\n",
       "    'img_logo_url': 'af890f848dd606ac2fd4415de3c3f5e7a66fcb9f',\n",
       "    'name': 'Counter-Strike',\n",
       "    'playtime_forever': 573},\n",
       "   {'appid': 80,\n",
       "    'img_icon_url': '077b050ef3e89cd84e2c5a575d78d53b54058236',\n",
       "    'img_logo_url': 'acdb28ba1b4c2fcc526332c1b63fc0f7533f087f',\n",
       "    'name': 'Counter-Strike: Condition Zero',\n",
       "    'playtime_forever': 0},\n",
       "   {'appid': 100,\n",
       "    'img_icon_url': '077b050ef3e89cd84e2c5a575d78d53b54058236',\n",
       "    'img_logo_url': 'acdb28ba1b4c2fcc526332c1b63fc0f7533f087f',\n",
       "    'name': 'Counter-Strike: Condition Zero Deleted Scenes',\n",
       "    'playtime_forever': 0},\n",
       "   {'appid': 253710,\n",
       "    'has_community_visible_stats': True,\n",
       "    'img_icon_url': '4a91dc770675e559038a4f46e0daa4f8fa42ee30',\n",
       "    'img_logo_url': 'fbfd9daf55e8489e42500bd3e08ca8f4c5f028db',\n",
       "    'name': 'theHunter Classic',\n",
       "    'playtime_forever': 0},\n",
       "   {'appid': 295110,\n",
       "    'img_icon_url': '62defe57b364721d8947761c9998643ae5afaad1',\n",
       "    'img_logo_url': '8d70843e7acf946c9f91b7da070b5e7ec80a232a',\n",
       "    'name': 'Just Survive',\n",
       "    'playtime_forever': 204},\n",
       "   {'appid': 362300,\n",
       "    'img_icon_url': 'ae46a0a74a41c21f2d490dde824f552c20920761',\n",
       "    'img_logo_url': '7d0f4505788a7786bf30da1cb8998ee28b049815',\n",
       "    'name': 'Just Survive Test Server',\n",
       "    'playtime_forever': 0},\n",
       "   {'appid': 433850,\n",
       "    'has_community_visible_stats': True,\n",
       "    'img_icon_url': 'a7a0cef96f9cf83f4afd7cb52a48174f2dfbb663',\n",
       "    'img_logo_url': 'e57cc5b3b0f12d66e8d1a7e443be44e749b41825',\n",
       "    'name': 'H1Z1: King of the Kill',\n",
       "    'playtime_forever': 0},\n",
       "   {'appid': 439700,\n",
       "    'img_icon_url': 'd0e924622be8ce1e9920197f397365bb1e6bca5f',\n",
       "    'img_logo_url': 'e57cc5b3b0f12d66e8d1a7e443be44e749b41825',\n",
       "    'name': 'H1Z1: King of the Kill Test Server',\n",
       "    'playtime_forever': 0},\n",
       "   {'appid': 730,\n",
       "    'has_community_visible_stats': True,\n",
       "    'img_icon_url': '69f7ebe2735c366c65c0b33dae00e12dc40edbe4',\n",
       "    'img_logo_url': 'd0595ff02f5c79fd19b06f4d6165c3fda2372820',\n",
       "    'name': 'Counter-Strike: Global Offensive',\n",
       "    'playtime_forever': 5094},\n",
       "   {'appid': 305620,\n",
       "    'has_community_visible_stats': True,\n",
       "    'img_icon_url': 'e26b78087b75d5e002e92f2bdd73ce6fc4861e56',\n",
       "    'img_logo_url': '0c8eff00cce79bf9a2b19a6be1b495fc6229573e',\n",
       "    'name': 'The Long Dark',\n",
       "    'playtime_forever': 297}]}}"
      ]
     },
     "execution_count": 195,
     "metadata": {},
     "output_type": "execute_result"
    }
   ],
   "source": [
    "response = api.IPlayerService.GetOwnedGames(steamid=76561198207709727, include_appinfo=1, include_played_free_games=0, appids_filter=[])\n",
    "response['2'] = 'kk'\n",
    "response"
   ]
  },
  {
   "cell_type": "code",
   "execution_count": 202,
   "metadata": {},
   "outputs": [
    {
     "name": "stdout",
     "output_type": "stream",
     "text": [
      "{\n",
      "  \"response\": {\n",
      "    \"game_count\": 2,\n",
      "    \"games\": [\n",
      "      {\n",
      "        \"appid\": 205790,\n",
      "        \"name\": \"Dota 2 Test\",\n",
      "        \"playtime_forever\": 0,\n",
      "        \"img_icon_url\": \"\",\n",
      "        \"img_logo_url\": \"\"\n",
      "      },\n",
      "      {\n",
      "        \"appid\": 570,\n",
      "        \"name\": \"Dota 2\",\n",
      "        \"playtime_forever\": 2703,\n",
      "        \"img_icon_url\": \"0bbb630d63262dd66d2fdd0f7d37e8661a410075\",\n",
      "        \"img_logo_url\": \"d4f836839254be08d8e9dd333ecc9a01782c26d2\"\n",
      "      }\n",
      "    ]\n",
      "  }\n",
      "}\n"
     ]
    }
   ],
   "source": [
    "# get all games but include free gmaes (not games 76561198110526580)\n",
    "response = api.IPlayerService.GetOwnedGames(steamid=76561198110526572, include_appinfo=1, include_played_free_games=1, appids_filter=[])\n",
    "print(json.dumps(response, indent=2))\n",
    "\n",
    "#notice playtime is in mintues not hours"
   ]
  },
  {
   "cell_type": "code",
   "execution_count": 170,
   "metadata": {},
   "outputs": [
    {
     "name": "stdout",
     "output_type": "stream",
     "text": [
      "50000\n",
      "#queried Ids: 50000 - #responsed: 45709\n"
     ]
    }
   ],
   "source": [
    "# go over all collected list, but the ids in chuncks of 100. and collect all players details. \n",
    "f = open('idList_2017-09-23 03-08', 'r')\n",
    "x = f.readlines()\n",
    "print (len(x))\n",
    "stripX = [i.strip('\\n') for i in x]\n",
    "\n",
    "chunkSize = 100\n",
    "l = [ stripX[i:i + chunkSize] for i in range(0, len(stripX), chunkSize) ]\n",
    "\n",
    "queriedIdCounter = 0\n",
    "responseCounter = 0\n",
    "for i in l:\n",
    "    steamChunckIds = ','.join(map(str, i))\n",
    "    response = api.ISteamUser.GetPlayerSummaries(steamids=steamChunckIds)\n",
    "    db.GetPlayerSummaries.insert_many(response['response']['players'])\n",
    "    queriedIdCounter += len(i)\n",
    "    responseCounter += len(response['response']['players'])\n",
    "    time.sleep(.250)\n",
    "\n",
    "print(\"#queried Ids: {} - #responsed: {}\".format(queriedIdCounter, responseCounter))"
   ]
  },
  {
   "cell_type": "code",
   "execution_count": null,
   "metadata": {},
   "outputs": [
    {
     "name": "stdout",
     "output_type": "stream",
     "text": [
      "32587\n"
     ]
    }
   ],
   "source": [
    "queriedIdCounter1 = 0\n",
    "responseCounter1 = 0\n",
    "\n",
    "for i in stripX:\n",
    "    response = api.IPlayerService.GetOwnedGames(steamid=i, include_appinfo=1, include_played_free_games=0, appids_filter=[])\n",
    "    queriedIdCounter1 +=1\n",
    "    if response['response'] != {}:\n",
    "        responseCounter1 += 1\n",
    "        response['playerId'] = i\n",
    "        db.GetOwnedGames.insert_one(response)\n",
    "\n",
    "print(\"#queried Ids: {} - #responsed: {}\".format(queriedIdCounter1, responseCounter1))        \n",
    "\n",
    "    "
   ]
  },
  {
   "cell_type": "markdown",
   "metadata": {},
   "source": [
    "# get app price ( does'nt need authentication) \n",
    "\n",
    "You can get all apps (games), and the IDs for it, by using this API:\n",
    "\n",
    "http://api.steampowered.com/ISteamApps/GetAppList/v0001/\n",
    "You will get nearly every information you need about a game (including screenshots).\n",
    "\n",
    "Region\n",
    "\n",
    "You can change the region by adding the parameter cc.\n",
    "\n",
    "For example:\n",
    "\n",
    "http://store.steampowered.com/api/appdetails?appids=57690&cc=us\n",
    "http://store.steampowered.com/api/appdetails?appids=57690&cc=gb\n",
    "http://store.steampowered.com/api/appdetails?appids=57690&cc=de\n",
    "\n",
    "Appid 57690 = Tropico 4\n",
    "\n",
    "http://store.steampowered.com/api/appdetails?appids=57690\n",
    "Part of the response:\n",
    "\n",
    "\"price_overview\":{\n",
    "    \"currency\":\"EUR\",\n",
    "    \"initial\":2999,\n",
    "    \"final\":2999,\n",
    "    \"discount_percent\":0\n",
    "}\n",
    "\n",
    "\n",
    "2999 is likely 29.99\n",
    "\n"
   ]
  },
  {
   "cell_type": "code",
   "execution_count": null,
   "metadata": {
    "collapsed": true
   },
   "outputs": [],
   "source": []
  }
 ],
 "metadata": {
  "kernelspec": {
   "display_name": "Python 3",
   "language": "python",
   "name": "python3"
  },
  "language_info": {
   "codemirror_mode": {
    "name": "ipython",
    "version": 3
   },
   "file_extension": ".py",
   "mimetype": "text/x-python",
   "name": "python",
   "nbconvert_exporter": "python",
   "pygments_lexer": "ipython3",
   "version": "3.6.1"
  }
 },
 "nbformat": 4,
 "nbformat_minor": 2
}
